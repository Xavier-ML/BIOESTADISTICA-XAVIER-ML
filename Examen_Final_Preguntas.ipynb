{
  "cells": [
    {
      "cell_type": "markdown",
      "metadata": {
        "id": "view-in-github",
        "colab_type": "text"
      },
      "source": [
        "<a href=\"https://colab.research.google.com/github/Xavier-ML/BIOINFORMATICA-XAVIER-ML/blob/main/Examen_Final_Preguntas.ipynb\" target=\"_parent\"><img src=\"https://colab.research.google.com/assets/colab-badge.svg\" alt=\"Open In Colab\"/></a>"
      ]
    },
    {
      "cell_type": "markdown",
      "metadata": {
        "id": "XnB_Jzn1NLMK"
      },
      "source": [
        "## Examen Final - Python Fundamentals for Data Science\n",
        "Instrucciones:\n",
        "* El examen tiene un máximo de 2.5 horas de duración\n",
        "* Se permite hacer consultas por internet\n",
        "* Las respuestas incluyendo código deben verse reflejadas en el notebook\n",
        "* Enviar el notebook con respuestas al correo del instructor al terminar\n",
        "* No se permite consultar ni conversar con los compañeros de clase"
      ]
    },
    {
      "cell_type": "markdown",
      "metadata": {
        "id": "bwYy9TcjNLMO"
      },
      "source": [
        "P1. Cargar el dataset datos.csv en Pandas.\n",
        "Mostrar las filas iniciales en la pantalla. Cuantas filas y columnas hay"
      ]
    },
    {
      "cell_type": "markdown",
      "metadata": {
        "id": "5yJu9urRNLMO"
      },
      "source": [
        "P2. Existe una columna que copia el índice. Eliminarla del dataframe y mostrar el resultado."
      ]
    },
    {
      "cell_type": "markdown",
      "metadata": {
        "id": "CIR5sg-FNLMP"
      },
      "source": [
        "P3. ¿Cuántas personas de sexo masculino y femenino están representadas en el dataset?"
      ]
    },
    {
      "cell_type": "markdown",
      "source": [],
      "metadata": {
        "id": "zACBSewKORWp"
      }
    },
    {
      "cell_type": "markdown",
      "metadata": {
        "id": "m-oaKXOcNLMP"
      },
      "source": [
        "P4. ¿Cuál es la edad promedio del sexo masculino?"
      ]
    },
    {
      "cell_type": "markdown",
      "metadata": {
        "id": "bcIEYntXNLMP"
      },
      "source": [
        "P5. ¿Cuál es la proporción de Mexicanos del dataset?\n",
        "\n",
        "> Bloc con sangría\n",
        "\n"
      ]
    },
    {
      "cell_type": "markdown",
      "metadata": {
        "id": "JEHCP2-BNLMQ"
      },
      "source": [
        "P6. ¿Cuál es la edad promedio de aquellos que ganan más de 50K y menos de 50K?"
      ]
    },
    {
      "cell_type": "markdown",
      "metadata": {
        "id": "FQm9aJ53NLMQ"
      },
      "source": [
        "P7. ¿Todos los que ganan mas de 50K al año tienen un Bachiller?"
      ]
    },
    {
      "cell_type": "markdown",
      "metadata": {
        "id": "yiTJfbg7NLMR"
      },
      "source": [
        "P8. Determinar el número de horas promedio por semana que se trabaja en cada país para <=50K y >50K"
      ]
    },
    {
      "cell_type": "markdown",
      "metadata": {
        "id": "_QaF87tkNLMR"
      },
      "source": [
        "P9. Agrupar y contar los registros de <=50K y >50K. Graficar el resultado de manera apropiada"
      ]
    },
    {
      "cell_type": "markdown",
      "metadata": {
        "id": "l5H47touNLMR"
      },
      "source": [
        "P10. Según el análisis:\n",
        "* ¿Qué campos serían idóneos para entrenar un modelo que predice si nuevos datos corresponden a <=50K o >50K?\n",
        "* ¿Sería un modelo de regresión o clasificación - por qué?\n",
        "* Argumentar en máx 3 párrafos."
      ]
    },
    {
      "cell_type": "markdown",
      "source": [
        "P11.En un examen tipo test, las preguntas correctas suman un punto y las incorrectas restan medio punto. En total hay 100 preguntas y no se admiten respuestas en blanco (hay que contestar todas).\n",
        "\n",
        "La nota de un alumno es 8.05 sobre 10. Calcular el número de preguntas que contestó correcta e incorrectamente."
      ],
      "metadata": {
        "id": "JBafGdf7O30e"
      }
    },
    {
      "cell_type": "markdown",
      "source": [
        "P12. Si se suma 7 al numerador y al denominador de una determinada fracción, se obtiene la fracción\n",
        "\n",
        "2\n",
        "3\n",
        "Si en vez de sumar 7 se resta 3 al numerador y al denominador, se obtiene la fracción\n",
        "\n",
        "1\n",
        "4\n",
        "Encontrar dicha fracción."
      ],
      "metadata": {
        "id": "QfwZfJ_1PYpT"
      }
    },
    {
      "cell_type": "markdown",
      "source": [
        "P13. Graficar Histograma de rangos de edades"
      ],
      "metadata": {
        "id": "FOn7RurhPcCN"
      }
    },
    {
      "cell_type": "markdown",
      "source": [
        "P14.Graficar Violin  Hours per week"
      ],
      "metadata": {
        "id": "nzt38KooQLUh"
      }
    },
    {
      "cell_type": "markdown",
      "source": [
        "P15.Graficar dispersión entre edad y horas per week"
      ],
      "metadata": {
        "id": "nFDTyN40Qsza"
      }
    },
    {
      "cell_type": "markdown",
      "source": [
        "P16.Una marca de bebidas prepara una limonada (agua y concentrado de limón) con una cantidad muy precisa de sus ingredientes. La relación entre las cantidades de agua y concentrado limón es\n",
        "\n",
        "L\n",
        "L\n",
        "=\n",
        "2\n",
        "L\n",
        "A\n",
        "5\n",
        "donde LL representa los litros de concentrado de limón y LA los litros de agua.\n",
        "\n",
        "Si se necesitan 20 limones para obtener un litro de concentrado de limón, ¿cuántos limones se necesitan para elaborar 1230 botellas de 2L de esta limonada?"
      ],
      "metadata": {
        "id": "Nu_mc5e3RJSh"
      }
    },
    {
      "cell_type": "markdown",
      "source": [
        "P17.Grafico de barras de Race"
      ],
      "metadata": {
        "id": "5B6l4oibRMLv"
      }
    },
    {
      "cell_type": "markdown",
      "source": [
        "P18. Desarrollar un programa que te pregunte un número y termine calculando el factorial, ejemplo= 3  ---> 1*2*3 =6"
      ],
      "metadata": {
        "id": "2jXAqv8TRV4h"
      }
    },
    {
      "cell_type": "markdown",
      "source": [
        "P19.Desarrollar un programa que te calcule la nota final del curso, aoartir de las notas de  tareas, laboratorios y examen final (0.3 ,0.4, 0.3 pesos respectivamente)"
      ],
      "metadata": {
        "id": "-SE3zMv-Ri9j"
      }
    },
    {
      "cell_type": "markdown",
      "source": [
        "P20. 3 resumenes de la data , seleccionar mínimo 2 variables cuantitativas"
      ],
      "metadata": {
        "id": "RryiVzAJR78L"
      }
    },
    {
      "cell_type": "code",
      "source": [],
      "metadata": {
        "id": "A09AVZ2VQqFr"
      },
      "execution_count": null,
      "outputs": []
    }
  ],
  "metadata": {
    "kernelspec": {
      "display_name": "Python 3",
      "language": "python",
      "name": "python3"
    },
    "language_info": {
      "codemirror_mode": {
        "name": "ipython",
        "version": 3
      },
      "file_extension": ".py",
      "mimetype": "text/x-python",
      "name": "python",
      "nbconvert_exporter": "python",
      "pygments_lexer": "ipython3",
      "version": "3.5.6"
    },
    "colab": {
      "provenance": [],
      "include_colab_link": true
    }
  },
  "nbformat": 4,
  "nbformat_minor": 0
}