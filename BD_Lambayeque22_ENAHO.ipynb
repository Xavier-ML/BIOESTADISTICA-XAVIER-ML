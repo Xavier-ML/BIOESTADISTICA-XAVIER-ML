{
  "nbformat": 4,
  "nbformat_minor": 0,
  "metadata": {
    "colab": {
      "provenance": [],
      "authorship_tag": "ABX9TyNlm3g5k5hGJLXCAkn7wUB6",
      "include_colab_link": true
    },
    "kernelspec": {
      "name": "python3",
      "display_name": "Python 3"
    },
    "language_info": {
      "name": "python"
    }
  },
  "cells": [
    {
      "cell_type": "markdown",
      "metadata": {
        "id": "view-in-github",
        "colab_type": "text"
      },
      "source": [
        "<a href=\"https://colab.research.google.com/github/Xavier-ML/ESTADISTICA-Xavier-ML/blob/main/BD_Lambayeque22_ENAHO.ipynb\" target=\"_parent\"><img src=\"https://colab.research.google.com/assets/colab-badge.svg\" alt=\"Open In Colab\"/></a>"
      ]
    },
    {
      "cell_type": "markdown",
      "source": [
        "\n",
        "#LABORATORIO INDIVIDUAL – MODULO 1 DE LA PLATAFORMA VIRTUAL\n",
        "El presente laboratorio se ha realizado para que lo resuelvan en forma individual. Está basado en una investigación real respecto a la información de la Encuesta Nacional de Hogares del año 2022 (ENAHO).\n",
        "\n",
        "\n"
      ],
      "metadata": {
        "id": "cXk3XNNn0k2B"
      }
    },
    {
      "cell_type": "markdown",
      "source": [
        "### Para cada uno de los grupos, la información de respuesta debe remitirse en Word la parte textual analítica y en Excel.\n",
        "El ámbito de aplicación de la intervención fue en la región Lambayeque. La población estimada en el año 2022, fue de 1 millón 338 mil habitantes (1,338,994), habitando en 289,969 viviendas, en los cuales se tomó una muestra de 1436 hogares para identificar los hogares. A continuación, se alcanza la Base de Datos con algunas variables de interés.\n",
        "El laboratorio se ha dividido de la siguiente manera.\n",
        "Se debe utilizar la Base de datos que se adjunta en el Excel para resolver las siguientes preguntas.\n",
        "### Para cada una de las variables cuantitativas se pide lo siguiente:\n",
        "\n",
        "*   Distribución de frecuencias\n",
        "*    Histograma y polígono\n",
        "*    La media aritmética\n",
        "*    La mediana\n",
        "*    La moda\n",
        "*     La desviación media\n",
        "*    La varianza\n",
        "*    La desviación estándar\n",
        "*      El coeficiente de variación\n",
        "*     El coeficiente de asimetría\n",
        "*    El coeficiente de apuntamiento\n",
        "\n",
        "### Para cada una de las variables cualitativas se pide lo siguiente:\n",
        "\n",
        "*    Histograma\n",
        "*    Distribución de frecuencias\n",
        "*    La moda\n"
      ],
      "metadata": {
        "id": "up0uoSov0zM4"
      }
    },
    {
      "cell_type": "code",
      "execution_count": 1,
      "metadata": {
        "id": "nX87M0AvzCVZ"
      },
      "outputs": [],
      "source": [
        "import pandas as pd\n",
        "import math"
      ]
    },
    {
      "cell_type": "code",
      "source": [
        "datos = pd.read_excel(\"/content/BD_Lambayeque22.xlsx\")"
      ],
      "metadata": {
        "id": "cjIjzkmI0P2_"
      },
      "execution_count": 2,
      "outputs": []
    },
    {
      "cell_type": "code",
      "source": [
        "datos.shape"
      ],
      "metadata": {
        "colab": {
          "base_uri": "https://localhost:8080/"
        },
        "id": "kWOdKZnG0YbK",
        "outputId": "9ea178ad-ee14-4e6c-8ddc-ce3100a62295"
      },
      "execution_count": 3,
      "outputs": [
        {
          "output_type": "execute_result",
          "data": {
            "text/plain": [
              "(4944, 22)"
            ]
          },
          "metadata": {},
          "execution_count": 3
        }
      ]
    },
    {
      "cell_type": "code",
      "source": [
        "datos.dtypes"
      ],
      "metadata": {
        "colab": {
          "base_uri": "https://localhost:8080/"
        },
        "id": "PvK0PiAN0aMT",
        "outputId": "7f935e12-8552-4b74-eecf-fb07b0a074a2"
      },
      "execution_count": 4,
      "outputs": [
        {
          "output_type": "execute_result",
          "data": {
            "text/plain": [
              "aÑo             int64\n",
              "mes             int64\n",
              "conglome        int64\n",
              "vivienda        int64\n",
              "hogar           int64\n",
              "codperso        int64\n",
              "ubigeo          int64\n",
              "dominio        object\n",
              "estrato        object\n",
              "p207           object\n",
              "p208a           int64\n",
              "p301a          object\n",
              "factor07      float64\n",
              "p110           object\n",
              "p1121          object\n",
              "mieperho        int64\n",
              "totmieho        int64\n",
              "sg42          float64\n",
              "gru11hd       float64\n",
              "inghog2dp     float64\n",
              "gashog1dp     float64\n",
              "estrsocial     object\n",
              "dtype: object"
            ]
          },
          "metadata": {},
          "execution_count": 4
        }
      ]
    },
    {
      "cell_type": "markdown",
      "source": [
        "#### Variable cuantitativa a analizar ingreso neto per cápita (**inghog2dp**)"
      ],
      "metadata": {
        "id": "bULGPnW02Ame"
      }
    },
    {
      "cell_type": "code",
      "source": [
        "inghog2dp = datos['inghog2dp']"
      ],
      "metadata": {
        "id": "Mjuk2mfK1Kf7"
      },
      "execution_count": 5,
      "outputs": []
    },
    {
      "cell_type": "code",
      "source": [
        "type(inghog2dp)"
      ],
      "metadata": {
        "colab": {
          "base_uri": "https://localhost:8080/"
        },
        "id": "3gJS-wBv2iAj",
        "outputId": "f3ca90c9-5f8a-4a11-86d1-865898e5edd3"
      },
      "execution_count": 6,
      "outputs": [
        {
          "output_type": "execute_result",
          "data": {
            "text/plain": [
              "pandas.core.series.Series"
            ]
          },
          "metadata": {},
          "execution_count": 6
        }
      ]
    },
    {
      "cell_type": "code",
      "source": [
        "inghog2dp"
      ],
      "metadata": {
        "colab": {
          "base_uri": "https://localhost:8080/"
        },
        "id": "VxU59hLr2krS",
        "outputId": "6d79d670-db5a-449c-b920-77da6c6020f2"
      },
      "execution_count": 7,
      "outputs": [
        {
          "output_type": "execute_result",
          "data": {
            "text/plain": [
              "0       1278.309652\n",
              "1       1278.309652\n",
              "2       1278.309652\n",
              "3       1278.309652\n",
              "4       1675.821777\n",
              "           ...     \n",
              "4939     896.100065\n",
              "4940     896.100065\n",
              "4941     716.241862\n",
              "4942     716.241862\n",
              "4943     716.241862\n",
              "Name: inghog2dp, Length: 4944, dtype: float64"
            ]
          },
          "metadata": {},
          "execution_count": 7
        }
      ]
    },
    {
      "cell_type": "code",
      "source": [
        "for i in range(13):\n",
        "    print(i)"
      ],
      "metadata": {
        "colab": {
          "base_uri": "https://localhost:8080/"
        },
        "id": "IsKqivIOq3S3",
        "outputId": "66cf10f8-cdfb-477e-feab-e743062b2fa7"
      },
      "execution_count": 8,
      "outputs": [
        {
          "output_type": "stream",
          "name": "stdout",
          "text": [
            "0\n",
            "1\n",
            "2\n",
            "3\n",
            "4\n",
            "5\n",
            "6\n",
            "7\n",
            "8\n",
            "9\n",
            "10\n",
            "11\n",
            "12\n"
          ]
        }
      ]
    },
    {
      "cell_type": "code",
      "source": [],
      "metadata": {
        "id": "XYpK94L-77hl"
      },
      "execution_count": 8,
      "outputs": []
    },
    {
      "cell_type": "code",
      "source": [
        "def tabla_frecuencias_agrupadas(columna):\n",
        "  \"\"\"\n",
        "  Crea una tabla de frecuencias agrupadas para una columna de un dataset.\n",
        "\n",
        "  Args:\n",
        "    columna: La columna del dataset para la que se desea crear la tabla de frecuencias.\n",
        "    rango: El rango de los datos.\n",
        "    amplitud: La amplitud de cada intervalo de clase.\n",
        "\n",
        "  Returns:\n",
        "    Una tabla de frecuencias agrupadas con las siguientes columnas:\n",
        "      * Intervalo: El intervalo de clase.\n",
        "      * Frecuencia absoluta: La cantidad de veces que aparece el intervalo.\n",
        "      * Frecuencia relativa: La frecuencia absoluta dividida por el tamaño de la muestra.\n",
        "      * Marca de clase: El valor medio del intervalo.\n",
        "  \"\"\"\n",
        "  # Valor maximo de datos\n",
        "  Vmax = columna.max()\n",
        "  # Valor minimo de datos\n",
        "  Vmin = math.floor(columna.min())\n",
        "  # diferencia del valor maximo al minimo\n",
        "  R = Vmax - Vmin\n",
        "  # Número de filas de datos\n",
        "  numero_filas = columna.shape[0]\n",
        "  # Número de intervalos calculo de Sturges\n",
        "  n = round(1 + 3.22*math.log10(numero_filas ))\n",
        "  # Amplitud decimal\n",
        "  A = math.floor(R/n)\n",
        "  # Redondeo de la amplitud\n",
        "  redon_A = round(A)\n",
        "  # valor de la multiplicación de numero de intervalos y amplitud de redondeo\n",
        "  R_prima = n*redon_A\n",
        "  # Diferencia entre el valor decimal y valor teorico de R\n",
        "  d = R_prima - R\n",
        "  # Valor maximo + 1\n",
        "  Vmax_prima = Vmax + 1\n",
        "  lista_variables_iniciales = [n,Vmax,Vmin,R,numero_filas,A,redon_A,R_prima,d,Vmax_prima]\n",
        "  print(lista_variables_iniciales)\n",
        "  # Inicializamos la tabla de frecuencias.\n",
        "  lista_limite_inferior = []\n",
        "  lista_limite_superior = []\n",
        "  lista_marca_clase = []\n",
        "  lista_frecuencia_absoluta = []\n",
        "\n",
        "  tabla = pd.DataFrame({\n",
        "    \"Límite inferior\": lista_limite_inferior,\n",
        "    \"Límite superior\": lista_limite_superior,\n",
        "    \"Marca de clase\": lista_marca_clase,\n",
        "    \"Frecuencia absoluta\": lista_frecuencia_absoluta\n",
        "  })\n",
        "\n",
        "  li = Vmin\n",
        "  ls = Vmin + A\n",
        "  # Calculamos los intervalos de clase.\n",
        "  for i in range(n):\n",
        "    lista_limite_inferior.append(li)\n",
        "    lista_limite_superior.append(ls)\n",
        "    lista_marca_clase.append((li + ls)/2)\n",
        "    li = li + A\n",
        "    ls = ls + A\n",
        "  if lista_limite_superior[n-1] < Vmax:\n",
        "    lista_limite_superior[n-1]=round(Vmax)\n",
        "  print(lista_limite_inferior)\n",
        "  print(lista_limite_superior)\n",
        "  print(lista_marca_clase)\n",
        "\n",
        "  # Si los intervalos de clase contienen números decimales, redondeamos la marca de clase al decimal más cercano.\n",
        "  for j in range(n):\n",
        "    N = 0\n",
        "    for i in range(numero_filas):\n",
        "        if lista_limite_inferior[j]< columna[i] and columna[i] <= lista_limite_superior[j]:\n",
        "            N = N + 1\n",
        "    lista_frecuencia_absoluta.append(N)\n",
        "\n",
        "  print(lista_frecuencia_absoluta)\n",
        "\n",
        "  diccionario_estadistico = {\"Límite inferior\":lista_limite_inferior,\n",
        "    \"Límite superior\":lista_limite_superior,\n",
        "    \"Marca de clase\":lista_marca_clase, \"Frecuencia Absoluta\": lista_frecuencia_absoluta}\n",
        "  print(diccionario_estadistico)\n",
        "\n",
        "  tabla = pd.DataFrame(diccionario_estadistico)\n",
        "\n",
        "  #tabla[\"Marca de clase\"] = tabla[\"Marca de clase\"].round(decimals=1)\n",
        "\n",
        "  # Calculamos la frecuencia absoluta de cada intervalo.\n",
        "  #tabla[\"Frecuencia absoluta\"] = tabla[\"Intervalo\"].value_counts()\n",
        "\n",
        "  # Calculamos la frecuencia absoluta acumulada.\n",
        "  #tabla[\"Frecuencia absoluta acumulada\"] = tabla[\"Frecuencia absoluta\"].cumsum()\n",
        "\n",
        "  # Calculamos la frecuencia relativa de cada intervalo.\n",
        "  #tabla[\"Frecuencia relativa\"] = tabla[\"Frecuencia absoluta\"] / tabla.shape[0]\n",
        "\n",
        "  # Calculamos la frecuencia relativa acumulada.\n",
        "  #tabla[\"Frecuencia relativa acumulada\"] = tabla[\"Frecuencia relativa\"].cumsum()\n",
        "\n",
        "  # Calculamos la frecuencia porcentual de cada intervalo.\n",
        "  #tabla[\"Frecuencia porcentual\"] = tabla[\"Frecuencia absoluta\"] * 100\n",
        "\n",
        "  return tabla\n"
      ],
      "metadata": {
        "id": "tNGTKaS03e2M"
      },
      "execution_count": 40,
      "outputs": []
    },
    {
      "cell_type": "code",
      "source": [
        "dataset = pd.DataFrame({\n",
        "  \"Edad\": [18.2, 25.3, 23.1, 19.4, 20.5, 22.6, 21.7, 24.8, 26.9]\n",
        "})\n"
      ],
      "metadata": {
        "id": "aXCmP1iMscCr"
      },
      "execution_count": 41,
      "outputs": []
    },
    {
      "cell_type": "code",
      "source": [
        "tabla = tabla_frecuencias_agrupadas(dataset[\"Edad\"])\n",
        "\n",
        "print(tabla)"
      ],
      "metadata": {
        "colab": {
          "base_uri": "https://localhost:8080/"
        },
        "id": "czCeaSkcug3M",
        "outputId": "521c6059-397f-46d1-b1f2-18c1eec11161"
      },
      "execution_count": 42,
      "outputs": [
        {
          "output_type": "stream",
          "name": "stdout",
          "text": [
            "[4, 26.9, 18, 8.899999999999999, 9, 2, 2, 8, -0.8999999999999986, 27.9]\n",
            "[18, 20, 22, 24]\n",
            "[20, 22, 24, 27]\n",
            "[19.0, 21.0, 23.0, 25.0]\n",
            "[2, 2, 2, 3]\n",
            "{'Límite inferior': [18, 20, 22, 24], 'Límite superior': [20, 22, 24, 27], 'Marca de clase': [19.0, 21.0, 23.0, 25.0], 'Frecuencia Absoluta': [2, 2, 2, 3]}\n",
            "   Límite inferior  Límite superior  Marca de clase  Frecuencia Absoluta\n",
            "0               18               20            19.0                    2\n",
            "1               20               22            21.0                    2\n",
            "2               22               24            23.0                    2\n",
            "3               24               27            25.0                    3\n"
          ]
        }
      ]
    },
    {
      "cell_type": "code",
      "source": [
        "for i in range(9-1):\n",
        "    print(i)"
      ],
      "metadata": {
        "id": "33GDj4TesflJ",
        "outputId": "9e28f771-838a-48cb-95eb-aee320c0ed6a",
        "colab": {
          "base_uri": "https://localhost:8080/"
        }
      },
      "execution_count": 39,
      "outputs": [
        {
          "output_type": "stream",
          "name": "stdout",
          "text": [
            "0\n",
            "1\n",
            "2\n",
            "3\n",
            "4\n",
            "5\n",
            "6\n",
            "7\n"
          ]
        }
      ]
    },
    {
      "cell_type": "code",
      "source": [],
      "metadata": {
        "id": "7ar0F7GcCkER"
      },
      "execution_count": null,
      "outputs": []
    }
  ]
}