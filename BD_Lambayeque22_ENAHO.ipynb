{
  "nbformat": 4,
  "nbformat_minor": 0,
  "metadata": {
    "colab": {
      "provenance": [],
      "authorship_tag": "ABX9TyM2SV/5fWKdLuCxbnuc/qc8",
      "include_colab_link": true
    },
    "kernelspec": {
      "name": "python3",
      "display_name": "Python 3"
    },
    "language_info": {
      "name": "python"
    }
  },
  "cells": [
    {
      "cell_type": "markdown",
      "metadata": {
        "id": "view-in-github",
        "colab_type": "text"
      },
      "source": [
        "<a href=\"https://colab.research.google.com/github/Xavier-ML/BIOINFORMATICA-XAVIER-ML/blob/main/BD_Lambayeque22_ENAHO.ipynb\" target=\"_parent\"><img src=\"https://colab.research.google.com/assets/colab-badge.svg\" alt=\"Open In Colab\"/></a>"
      ]
    },
    {
      "cell_type": "markdown",
      "source": [
        "\n",
        "#LABORATORIO INDIVIDUAL – MODULO 1 DE LA PLATAFORMA VIRTUAL\n",
        "El presente laboratorio se ha realizado para que lo resuelvan en forma individual. Está basado en una investigación real respecto a la información de la Encuesta Nacional de Hogares del año 2022 (ENAHO).\n",
        "\n",
        "\n"
      ],
      "metadata": {
        "id": "cXk3XNNn0k2B"
      }
    },
    {
      "cell_type": "markdown",
      "source": [
        "### Para cada uno de los grupos, la información de respuesta debe remitirse en Word la parte textual analítica y en Excel.\n",
        "El ámbito de aplicación de la intervención fue en la región Lambayeque. La población estimada en el año 2022, fue de 1 millón 338 mil habitantes (1,338,994), habitando en 289,969 viviendas, en los cuales se tomó una muestra de 1436 hogares para identificar los hogares. A continuación, se alcanza la Base de Datos con algunas variables de interés.\n",
        "El laboratorio se ha dividido de la siguiente manera.\n",
        "Se debe utilizar la Base de datos que se adjunta en el Excel para resolver las siguientes preguntas.\n",
        "### Para cada una de las variables cuantitativas se pide lo siguiente:\n",
        "\n",
        "*   Distribución de frecuencias\n",
        "*    Histograma y polígono\n",
        "*    La media aritmética\n",
        "*    La mediana\n",
        "*    La moda\n",
        "*     La desviación media\n",
        "*    La varianza\n",
        "*    La desviación estándar\n",
        "*      El coeficiente de variación\n",
        "*     El coeficiente de asimetría\n",
        "*    El coeficiente de apuntamiento\n",
        "\n",
        "### Para cada una de las variables cualitativas se pide lo siguiente:\n",
        "\n",
        "*    Histograma\n",
        "*    Distribución de frecuencias\n",
        "*    La moda\n"
      ],
      "metadata": {
        "id": "up0uoSov0zM4"
      }
    },
    {
      "cell_type": "code",
      "execution_count": 19,
      "metadata": {
        "id": "nX87M0AvzCVZ"
      },
      "outputs": [],
      "source": [
        "import pandas as pd\n",
        "import math"
      ]
    },
    {
      "cell_type": "code",
      "source": [
        "datos = pd.read_excel(\"/content/BD_Lambayeque22.xlsx\")"
      ],
      "metadata": {
        "id": "cjIjzkmI0P2_"
      },
      "execution_count": 20,
      "outputs": []
    },
    {
      "cell_type": "code",
      "source": [
        "datos.shape"
      ],
      "metadata": {
        "colab": {
          "base_uri": "https://localhost:8080/"
        },
        "id": "kWOdKZnG0YbK",
        "outputId": "6d241ac1-3727-4a40-e79d-2713ff49d992"
      },
      "execution_count": 21,
      "outputs": [
        {
          "output_type": "execute_result",
          "data": {
            "text/plain": [
              "(4944, 22)"
            ]
          },
          "metadata": {},
          "execution_count": 21
        }
      ]
    },
    {
      "cell_type": "code",
      "source": [
        "datos.dtypes"
      ],
      "metadata": {
        "colab": {
          "base_uri": "https://localhost:8080/"
        },
        "id": "PvK0PiAN0aMT",
        "outputId": "50b27234-fad2-4446-a58d-aec723451b92"
      },
      "execution_count": 22,
      "outputs": [
        {
          "output_type": "execute_result",
          "data": {
            "text/plain": [
              "aÑo             int64\n",
              "mes             int64\n",
              "conglome        int64\n",
              "vivienda        int64\n",
              "hogar           int64\n",
              "codperso        int64\n",
              "ubigeo          int64\n",
              "dominio        object\n",
              "estrato        object\n",
              "p207           object\n",
              "p208a           int64\n",
              "p301a          object\n",
              "factor07      float64\n",
              "p110           object\n",
              "p1121          object\n",
              "mieperho        int64\n",
              "totmieho        int64\n",
              "sg42          float64\n",
              "gru11hd       float64\n",
              "inghog2dp     float64\n",
              "gashog1dp     float64\n",
              "estrsocial     object\n",
              "dtype: object"
            ]
          },
          "metadata": {},
          "execution_count": 22
        }
      ]
    },
    {
      "cell_type": "markdown",
      "source": [
        "#### Variable cuantitativa a analizar ingreso neto per cápita (**inghog2dp**)"
      ],
      "metadata": {
        "id": "bULGPnW02Ame"
      }
    },
    {
      "cell_type": "code",
      "source": [
        "inghog2dp = datos['inghog2dp']"
      ],
      "metadata": {
        "id": "Mjuk2mfK1Kf7"
      },
      "execution_count": 23,
      "outputs": []
    },
    {
      "cell_type": "code",
      "source": [
        "type(inghog2dp)"
      ],
      "metadata": {
        "colab": {
          "base_uri": "https://localhost:8080/"
        },
        "id": "3gJS-wBv2iAj",
        "outputId": "690cd399-9ba0-4ee1-9fad-e91c5ad15575"
      },
      "execution_count": 24,
      "outputs": [
        {
          "output_type": "execute_result",
          "data": {
            "text/plain": [
              "pandas.core.series.Series"
            ]
          },
          "metadata": {},
          "execution_count": 24
        }
      ]
    },
    {
      "cell_type": "code",
      "source": [
        "inghog2dp"
      ],
      "metadata": {
        "colab": {
          "base_uri": "https://localhost:8080/"
        },
        "id": "VxU59hLr2krS",
        "outputId": "b4a750a8-f48b-476e-a87f-2629c295f4f9"
      },
      "execution_count": 25,
      "outputs": [
        {
          "output_type": "execute_result",
          "data": {
            "text/plain": [
              "0       1278.309652\n",
              "1       1278.309652\n",
              "2       1278.309652\n",
              "3       1278.309652\n",
              "4       1675.821777\n",
              "           ...     \n",
              "4939     896.100065\n",
              "4940     896.100065\n",
              "4941     716.241862\n",
              "4942     716.241862\n",
              "4943     716.241862\n",
              "Name: inghog2dp, Length: 4944, dtype: float64"
            ]
          },
          "metadata": {},
          "execution_count": 25
        }
      ]
    },
    {
      "cell_type": "code",
      "source": [
        "for i in range(13):\n",
        "    print(i)"
      ],
      "metadata": {
        "colab": {
          "base_uri": "https://localhost:8080/"
        },
        "id": "IsKqivIOq3S3",
        "outputId": "ea1298a9-8a69-4142-eaa9-8d25c28a94c8"
      },
      "execution_count": 26,
      "outputs": [
        {
          "output_type": "stream",
          "name": "stdout",
          "text": [
            "0\n",
            "1\n",
            "2\n",
            "3\n",
            "4\n",
            "5\n",
            "6\n",
            "7\n",
            "8\n",
            "9\n",
            "10\n",
            "11\n",
            "12\n"
          ]
        }
      ]
    },
    {
      "cell_type": "code",
      "source": [],
      "metadata": {
        "id": "XYpK94L-77hl"
      },
      "execution_count": null,
      "outputs": []
    },
    {
      "cell_type": "code",
      "source": [
        ",\n",
        "    \"Frecuencia absoluta acumulada\": lista_frecuencia_absoluta_acumulada,\n",
        "    \"Frecuencia relativa\": lista_frecuencia_relativa,\n",
        "    \"Frecuencia relativa acumulada\": lista_frecuencia_relativa_acumulada,\n",
        "    \"Frecuencia porcentual\": lista_frecuencia_porcentual"
      ],
      "metadata": {
        "id": "lnkh_xy-4Qkv"
      },
      "execution_count": null,
      "outputs": []
    },
    {
      "cell_type": "code",
      "source": [
        "def tabla_frecuencias_agrupadas(columna):\n",
        "  \"\"\"\n",
        "  Crea una tabla de frecuencias agrupadas para una columna de un dataset.\n",
        "\n",
        "  Args:\n",
        "    columna: La columna del dataset para la que se desea crear la tabla de frecuencias.\n",
        "    rango: El rango de los datos.\n",
        "    amplitud: La amplitud de cada intervalo de clase.\n",
        "\n",
        "  Returns:\n",
        "    Una tabla de frecuencias agrupadas con las siguientes columnas:\n",
        "      * Intervalo: El intervalo de clase.\n",
        "      * Frecuencia absoluta: La cantidad de veces que aparece el intervalo.\n",
        "      * Frecuencia relativa: La frecuencia absoluta dividida por el tamaño de la muestra.\n",
        "      * Marca de clase: El valor medio del intervalo.\n",
        "  \"\"\"\n",
        "  # Valor maximo de datos\n",
        "  Vmax = columna.max()\n",
        "  # Valor minimo de datos\n",
        "  Vmin = math.floor(columna.min())\n",
        "  # diferencia del valor maximo al minimo\n",
        "  R = Vmax - Vmin\n",
        "  # Número de filas de datos\n",
        "  numero_filas = columna.shape[0]\n",
        "  # Número de intervalos calculo de Sturges\n",
        "  n = round(1 + 3.22*math.log10(numero_filas ))\n",
        "  # Amplitud decimal\n",
        "  A = math.floor(R/n)\n",
        "  # Redondeo de la amplitud\n",
        "  redon_A = round(A)\n",
        "  # valor de la multiplicación de numero de intervalos y amplitud de redondeo\n",
        "  R_prima = n*redon_A\n",
        "  # Diferencia entre el valor decimal y valor teorico de R\n",
        "  d = R_prima - R\n",
        "  # Valor maximo + 1\n",
        "  Vmax_prima = Vmax + 1\n",
        "  lista_variables_iniciales = [n,Vmax,Vmin,R,numero_filas,A,redon_A,R_prima,d,Vmax_prima]\n",
        "  print(lista_variables_iniciales)\n",
        "  # Inicializamos la tabla de frecuencias.\n",
        "  lista_limite_inferior = []\n",
        "  lista_limite_superior = []\n",
        "  lista_marca_clase = []\n",
        "  lista_frecuencia_absoluta = []\n",
        "\n",
        "  tabla = pd.DataFrame({\n",
        "    \"Límite inferior\": lista_limite_inferior,\n",
        "    \"Límite superior\": lista_limite_superior,\n",
        "    \"Marca de clase\": lista_marca_clase,\n",
        "    \"Frecuencia absoluta\": lista_frecuencia_absoluta\n",
        "  })\n",
        "\n",
        "  li = Vmin\n",
        "  ls = Vmin + A\n",
        "  # Calculamos los intervalos de clase.\n",
        "  for i in range(n):\n",
        "    lista_limite_inferior.append(li)\n",
        "    lista_limite_superior.append(ls)\n",
        "    lista_marca_clase.append((li + ls)/2)\n",
        "    li = li + A\n",
        "    ls = ls + A\n",
        "  if lista_limite_superior[n-1] < Vmax:\n",
        "    lista_limite_superior[n-1]=round(Vmax)\n",
        "  print(lista_limite_inferior)\n",
        "  print(lista_limite_superior)\n",
        "  print(lista_marca_clase)\n",
        "\n",
        "  # Si los intervalos de clase contienen números decimales, redondeamos la marca de clase al decimal más cercano.\n",
        "  li = Vmin\n",
        "  ls = Vmin + A\n",
        "  for j in range(n):\n",
        "    for i in range(numero_filas-1):\n",
        "        N = 0\n",
        "        if li< columna[i]:\n",
        "            if columna[i] <= ls:\n",
        "                N = N + 1\n",
        "                lista_frecuencia_absoluta.append(N)\n",
        "            else:\n",
        "                lista_frecuencia_absoluta.append(0)\n",
        "        li = li + A\n",
        "        ls = ls + A\n",
        "\n",
        "  print(lista_frecuencia_absoluta)\n",
        "\n",
        "  diccionario_estadistico = {\"Límite inferior\":lista_limite_inferior,\n",
        "    \"Límite superior\":lista_limite_superior,\n",
        "    \"Marca de clase\":lista_marca_clase, \"Frecuencia Absoluta\": lista_frecuencia_absoluta}\n",
        "  print(diccionario_estadistico)\n",
        "\n",
        "  tabla = pd.DataFrame(diccionario_estadistico)\n",
        "\n",
        "  #tabla[\"Marca de clase\"] = tabla[\"Marca de clase\"].round(decimals=1)\n",
        "\n",
        "  # Calculamos la frecuencia absoluta de cada intervalo.\n",
        "  #tabla[\"Frecuencia absoluta\"] = tabla[\"Intervalo\"].value_counts()\n",
        "\n",
        "  # Calculamos la frecuencia absoluta acumulada.\n",
        "  #tabla[\"Frecuencia absoluta acumulada\"] = tabla[\"Frecuencia absoluta\"].cumsum()\n",
        "\n",
        "  # Calculamos la frecuencia relativa de cada intervalo.\n",
        "  #tabla[\"Frecuencia relativa\"] = tabla[\"Frecuencia absoluta\"] / tabla.shape[0]\n",
        "\n",
        "  # Calculamos la frecuencia relativa acumulada.\n",
        "  #tabla[\"Frecuencia relativa acumulada\"] = tabla[\"Frecuencia relativa\"].cumsum()\n",
        "\n",
        "  # Calculamos la frecuencia porcentual de cada intervalo.\n",
        "  #tabla[\"Frecuencia porcentual\"] = tabla[\"Frecuencia absoluta\"] * 100\n",
        "\n",
        "  return tabla\n"
      ],
      "metadata": {
        "id": "tNGTKaS03e2M"
      },
      "execution_count": 176,
      "outputs": []
    },
    {
      "cell_type": "code",
      "source": [
        "dataset = pd.DataFrame({\n",
        "  \"Edad\": [18.2, 25.3, 23.1, 19.4, 20.5, 22.6, 21.7, 24.8, 26.9]\n",
        "})\n"
      ],
      "metadata": {
        "id": "aXCmP1iMscCr"
      },
      "execution_count": 177,
      "outputs": []
    },
    {
      "cell_type": "code",
      "source": [
        "tabla = tabla_frecuencias_agrupadas(dataset[\"Edad\"])\n",
        "\n",
        "print(tabla)"
      ],
      "metadata": {
        "colab": {
          "base_uri": "https://localhost:8080/",
          "height": 460
        },
        "id": "czCeaSkcug3M",
        "outputId": "620ca624-cd33-4fa0-fcfc-80e382491c5b"
      },
      "execution_count": 178,
      "outputs": [
        {
          "output_type": "stream",
          "name": "stdout",
          "text": [
            "[4, 26.9, 18, 8.899999999999999, 9, 2, 2, 8, -0.8999999999999986, 27.9]\n",
            "[18, 20, 22, 24]\n",
            "[20, 22, 24, 27]\n",
            "[19.0, 21.0, 23.0, 25.0]\n",
            "[1, 0, 1]\n",
            "{'Límite inferior': [18, 20, 22, 24], 'Límite superior': [20, 22, 24, 27], 'Marca de clase': [19.0, 21.0, 23.0, 25.0], 'Frecuencia Absoluta': [1, 0, 1]}\n"
          ]
        },
        {
          "output_type": "error",
          "ename": "ValueError",
          "evalue": "ignored",
          "traceback": [
            "\u001b[0;31m---------------------------------------------------------------------------\u001b[0m",
            "\u001b[0;31mValueError\u001b[0m                                Traceback (most recent call last)",
            "\u001b[0;32m<ipython-input-178-f77cd92325e9>\u001b[0m in \u001b[0;36m<cell line: 1>\u001b[0;34m()\u001b[0m\n\u001b[0;32m----> 1\u001b[0;31m \u001b[0mtabla\u001b[0m \u001b[0;34m=\u001b[0m \u001b[0mtabla_frecuencias_agrupadas\u001b[0m\u001b[0;34m(\u001b[0m\u001b[0mdataset\u001b[0m\u001b[0;34m[\u001b[0m\u001b[0;34m\"Edad\"\u001b[0m\u001b[0;34m]\u001b[0m\u001b[0;34m)\u001b[0m\u001b[0;34m\u001b[0m\u001b[0;34m\u001b[0m\u001b[0m\n\u001b[0m\u001b[1;32m      2\u001b[0m \u001b[0;34m\u001b[0m\u001b[0m\n\u001b[1;32m      3\u001b[0m \u001b[0mprint\u001b[0m\u001b[0;34m(\u001b[0m\u001b[0mtabla\u001b[0m\u001b[0;34m)\u001b[0m\u001b[0;34m\u001b[0m\u001b[0;34m\u001b[0m\u001b[0m\n",
            "\u001b[0;32m<ipython-input-176-1b2b7e6586da>\u001b[0m in \u001b[0;36mtabla_frecuencias_agrupadas\u001b[0;34m(columna)\u001b[0m\n\u001b[1;32m     87\u001b[0m   \u001b[0mprint\u001b[0m\u001b[0;34m(\u001b[0m\u001b[0mdiccionario_estadistico\u001b[0m\u001b[0;34m)\u001b[0m\u001b[0;34m\u001b[0m\u001b[0;34m\u001b[0m\u001b[0m\n\u001b[1;32m     88\u001b[0m \u001b[0;34m\u001b[0m\u001b[0m\n\u001b[0;32m---> 89\u001b[0;31m   \u001b[0mtabla\u001b[0m \u001b[0;34m=\u001b[0m \u001b[0mpd\u001b[0m\u001b[0;34m.\u001b[0m\u001b[0mDataFrame\u001b[0m\u001b[0;34m(\u001b[0m\u001b[0mdiccionario_estadistico\u001b[0m\u001b[0;34m)\u001b[0m\u001b[0;34m\u001b[0m\u001b[0;34m\u001b[0m\u001b[0m\n\u001b[0m\u001b[1;32m     90\u001b[0m \u001b[0;34m\u001b[0m\u001b[0m\n\u001b[1;32m     91\u001b[0m   \u001b[0;31m#tabla[\"Marca de clase\"] = tabla[\"Marca de clase\"].round(decimals=1)\u001b[0m\u001b[0;34m\u001b[0m\u001b[0;34m\u001b[0m\u001b[0m\n",
            "\u001b[0;32m/usr/local/lib/python3.10/dist-packages/pandas/core/frame.py\u001b[0m in \u001b[0;36m__init__\u001b[0;34m(self, data, index, columns, dtype, copy)\u001b[0m\n\u001b[1;32m    662\u001b[0m         \u001b[0;32melif\u001b[0m \u001b[0misinstance\u001b[0m\u001b[0;34m(\u001b[0m\u001b[0mdata\u001b[0m\u001b[0;34m,\u001b[0m \u001b[0mdict\u001b[0m\u001b[0;34m)\u001b[0m\u001b[0;34m:\u001b[0m\u001b[0;34m\u001b[0m\u001b[0;34m\u001b[0m\u001b[0m\n\u001b[1;32m    663\u001b[0m             \u001b[0;31m# GH#38939 de facto copy defaults to False only in non-dict cases\u001b[0m\u001b[0;34m\u001b[0m\u001b[0;34m\u001b[0m\u001b[0m\n\u001b[0;32m--> 664\u001b[0;31m             \u001b[0mmgr\u001b[0m \u001b[0;34m=\u001b[0m \u001b[0mdict_to_mgr\u001b[0m\u001b[0;34m(\u001b[0m\u001b[0mdata\u001b[0m\u001b[0;34m,\u001b[0m \u001b[0mindex\u001b[0m\u001b[0;34m,\u001b[0m \u001b[0mcolumns\u001b[0m\u001b[0;34m,\u001b[0m \u001b[0mdtype\u001b[0m\u001b[0;34m=\u001b[0m\u001b[0mdtype\u001b[0m\u001b[0;34m,\u001b[0m \u001b[0mcopy\u001b[0m\u001b[0;34m=\u001b[0m\u001b[0mcopy\u001b[0m\u001b[0;34m,\u001b[0m \u001b[0mtyp\u001b[0m\u001b[0;34m=\u001b[0m\u001b[0mmanager\u001b[0m\u001b[0;34m)\u001b[0m\u001b[0;34m\u001b[0m\u001b[0;34m\u001b[0m\u001b[0m\n\u001b[0m\u001b[1;32m    665\u001b[0m         \u001b[0;32melif\u001b[0m \u001b[0misinstance\u001b[0m\u001b[0;34m(\u001b[0m\u001b[0mdata\u001b[0m\u001b[0;34m,\u001b[0m \u001b[0mma\u001b[0m\u001b[0;34m.\u001b[0m\u001b[0mMaskedArray\u001b[0m\u001b[0;34m)\u001b[0m\u001b[0;34m:\u001b[0m\u001b[0;34m\u001b[0m\u001b[0;34m\u001b[0m\u001b[0m\n\u001b[1;32m    666\u001b[0m             \u001b[0;32mimport\u001b[0m \u001b[0mnumpy\u001b[0m\u001b[0;34m.\u001b[0m\u001b[0mma\u001b[0m\u001b[0;34m.\u001b[0m\u001b[0mmrecords\u001b[0m \u001b[0;32mas\u001b[0m \u001b[0mmrecords\u001b[0m\u001b[0;34m\u001b[0m\u001b[0;34m\u001b[0m\u001b[0m\n",
            "\u001b[0;32m/usr/local/lib/python3.10/dist-packages/pandas/core/internals/construction.py\u001b[0m in \u001b[0;36mdict_to_mgr\u001b[0;34m(data, index, columns, dtype, typ, copy)\u001b[0m\n\u001b[1;32m    491\u001b[0m             \u001b[0marrays\u001b[0m \u001b[0;34m=\u001b[0m \u001b[0;34m[\u001b[0m\u001b[0mx\u001b[0m\u001b[0;34m.\u001b[0m\u001b[0mcopy\u001b[0m\u001b[0;34m(\u001b[0m\u001b[0;34m)\u001b[0m \u001b[0;32mif\u001b[0m \u001b[0mhasattr\u001b[0m\u001b[0;34m(\u001b[0m\u001b[0mx\u001b[0m\u001b[0;34m,\u001b[0m \u001b[0;34m\"dtype\"\u001b[0m\u001b[0;34m)\u001b[0m \u001b[0;32melse\u001b[0m \u001b[0mx\u001b[0m \u001b[0;32mfor\u001b[0m \u001b[0mx\u001b[0m \u001b[0;32min\u001b[0m \u001b[0marrays\u001b[0m\u001b[0;34m]\u001b[0m\u001b[0;34m\u001b[0m\u001b[0;34m\u001b[0m\u001b[0m\n\u001b[1;32m    492\u001b[0m \u001b[0;34m\u001b[0m\u001b[0m\n\u001b[0;32m--> 493\u001b[0;31m     \u001b[0;32mreturn\u001b[0m \u001b[0marrays_to_mgr\u001b[0m\u001b[0;34m(\u001b[0m\u001b[0marrays\u001b[0m\u001b[0;34m,\u001b[0m \u001b[0mcolumns\u001b[0m\u001b[0;34m,\u001b[0m \u001b[0mindex\u001b[0m\u001b[0;34m,\u001b[0m \u001b[0mdtype\u001b[0m\u001b[0;34m=\u001b[0m\u001b[0mdtype\u001b[0m\u001b[0;34m,\u001b[0m \u001b[0mtyp\u001b[0m\u001b[0;34m=\u001b[0m\u001b[0mtyp\u001b[0m\u001b[0;34m,\u001b[0m \u001b[0mconsolidate\u001b[0m\u001b[0;34m=\u001b[0m\u001b[0mcopy\u001b[0m\u001b[0;34m)\u001b[0m\u001b[0;34m\u001b[0m\u001b[0;34m\u001b[0m\u001b[0m\n\u001b[0m\u001b[1;32m    494\u001b[0m \u001b[0;34m\u001b[0m\u001b[0m\n\u001b[1;32m    495\u001b[0m \u001b[0;34m\u001b[0m\u001b[0m\n",
            "\u001b[0;32m/usr/local/lib/python3.10/dist-packages/pandas/core/internals/construction.py\u001b[0m in \u001b[0;36marrays_to_mgr\u001b[0;34m(arrays, columns, index, dtype, verify_integrity, typ, consolidate)\u001b[0m\n\u001b[1;32m    116\u001b[0m         \u001b[0;31m# figure out the index, if necessary\u001b[0m\u001b[0;34m\u001b[0m\u001b[0;34m\u001b[0m\u001b[0m\n\u001b[1;32m    117\u001b[0m         \u001b[0;32mif\u001b[0m \u001b[0mindex\u001b[0m \u001b[0;32mis\u001b[0m \u001b[0;32mNone\u001b[0m\u001b[0;34m:\u001b[0m\u001b[0;34m\u001b[0m\u001b[0;34m\u001b[0m\u001b[0m\n\u001b[0;32m--> 118\u001b[0;31m             \u001b[0mindex\u001b[0m \u001b[0;34m=\u001b[0m \u001b[0m_extract_index\u001b[0m\u001b[0;34m(\u001b[0m\u001b[0marrays\u001b[0m\u001b[0;34m)\u001b[0m\u001b[0;34m\u001b[0m\u001b[0;34m\u001b[0m\u001b[0m\n\u001b[0m\u001b[1;32m    119\u001b[0m         \u001b[0;32melse\u001b[0m\u001b[0;34m:\u001b[0m\u001b[0;34m\u001b[0m\u001b[0;34m\u001b[0m\u001b[0m\n\u001b[1;32m    120\u001b[0m             \u001b[0mindex\u001b[0m \u001b[0;34m=\u001b[0m \u001b[0mensure_index\u001b[0m\u001b[0;34m(\u001b[0m\u001b[0mindex\u001b[0m\u001b[0;34m)\u001b[0m\u001b[0;34m\u001b[0m\u001b[0;34m\u001b[0m\u001b[0m\n",
            "\u001b[0;32m/usr/local/lib/python3.10/dist-packages/pandas/core/internals/construction.py\u001b[0m in \u001b[0;36m_extract_index\u001b[0;34m(data)\u001b[0m\n\u001b[1;32m    664\u001b[0m             \u001b[0mlengths\u001b[0m \u001b[0;34m=\u001b[0m \u001b[0mlist\u001b[0m\u001b[0;34m(\u001b[0m\u001b[0mset\u001b[0m\u001b[0;34m(\u001b[0m\u001b[0mraw_lengths\u001b[0m\u001b[0;34m)\u001b[0m\u001b[0;34m)\u001b[0m\u001b[0;34m\u001b[0m\u001b[0;34m\u001b[0m\u001b[0m\n\u001b[1;32m    665\u001b[0m             \u001b[0;32mif\u001b[0m \u001b[0mlen\u001b[0m\u001b[0;34m(\u001b[0m\u001b[0mlengths\u001b[0m\u001b[0;34m)\u001b[0m \u001b[0;34m>\u001b[0m \u001b[0;36m1\u001b[0m\u001b[0;34m:\u001b[0m\u001b[0;34m\u001b[0m\u001b[0;34m\u001b[0m\u001b[0m\n\u001b[0;32m--> 666\u001b[0;31m                 \u001b[0;32mraise\u001b[0m \u001b[0mValueError\u001b[0m\u001b[0;34m(\u001b[0m\u001b[0;34m\"All arrays must be of the same length\"\u001b[0m\u001b[0;34m)\u001b[0m\u001b[0;34m\u001b[0m\u001b[0;34m\u001b[0m\u001b[0m\n\u001b[0m\u001b[1;32m    667\u001b[0m \u001b[0;34m\u001b[0m\u001b[0m\n\u001b[1;32m    668\u001b[0m             \u001b[0;32mif\u001b[0m \u001b[0mhave_dicts\u001b[0m\u001b[0;34m:\u001b[0m\u001b[0;34m\u001b[0m\u001b[0;34m\u001b[0m\u001b[0m\n",
            "\u001b[0;31mValueError\u001b[0m: All arrays must be of the same length"
          ]
        }
      ]
    },
    {
      "cell_type": "code",
      "source": [],
      "metadata": {
        "id": "33GDj4TesflJ"
      },
      "execution_count": 103,
      "outputs": []
    }
  ]
}