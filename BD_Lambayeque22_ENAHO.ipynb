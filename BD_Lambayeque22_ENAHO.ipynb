{
  "nbformat": 4,
  "nbformat_minor": 0,
  "metadata": {
    "colab": {
      "provenance": [],
      "authorship_tag": "ABX9TyPCEEjMwK5tNM5KTcG2xAjc",
      "include_colab_link": true
    },
    "kernelspec": {
      "name": "python3",
      "display_name": "Python 3"
    },
    "language_info": {
      "name": "python"
    }
  },
  "cells": [
    {
      "cell_type": "markdown",
      "metadata": {
        "id": "view-in-github",
        "colab_type": "text"
      },
      "source": [
        "<a href=\"https://colab.research.google.com/github/Xavier-ML/ESTADISTICA-Xavier-ML/blob/main/BD_Lambayeque22_ENAHO.ipynb\" target=\"_parent\"><img src=\"https://colab.research.google.com/assets/colab-badge.svg\" alt=\"Open In Colab\"/></a>"
      ]
    },
    {
      "cell_type": "markdown",
      "source": [
        "\n",
        "#LABORATORIO INDIVIDUAL – MODULO 1 DE LA PLATAFORMA VIRTUAL\n",
        "El presente laboratorio se ha realizado para que lo resuelvan en forma individual. Está basado en una investigación real respecto a la información de la Encuesta Nacional de Hogares del año 2022 (ENAHO).\n",
        "\n",
        "\n"
      ],
      "metadata": {
        "id": "cXk3XNNn0k2B"
      }
    },
    {
      "cell_type": "markdown",
      "source": [
        "*by Javier Quispe Tenorio*"
      ],
      "metadata": {
        "id": "RCO9VWFCC5XK"
      }
    },
    {
      "cell_type": "markdown",
      "source": [
        "### Para cada uno de los grupos, la información de respuesta debe remitirse en Word la parte textual analítica y en Excel.\n",
        "El ámbito de aplicación de la intervención fue en la región Lambayeque. La población estimada en el año 2022, fue de 1 millón 338 mil habitantes (1,338,994), habitando en 289,969 viviendas, en los cuales se tomó una muestra de 1436 hogares para identificar los hogares. A continuación, se alcanza la Base de Datos con algunas variables de interés.\n",
        "El laboratorio se ha dividido de la siguiente manera.\n",
        "Se debe utilizar la Base de datos que se adjunta en el Excel para resolver las siguientes preguntas.\n",
        "### Para cada una de las variables cuantitativas se pide lo siguiente:\n",
        "\n",
        "*   Distribución de frecuencias\n",
        "*    Histograma y polígono\n",
        "*    La media aritmética\n",
        "*    La mediana\n",
        "*    La moda\n",
        "*     La desviación media\n",
        "*    La varianza\n",
        "*    La desviación estándar\n",
        "*      El coeficiente de variación\n",
        "*     El coeficiente de asimetría\n",
        "*    El coeficiente de apuntamiento\n",
        "\n",
        "### Para cada una de las variables cualitativas se pide lo siguiente:\n",
        "\n",
        "*    Histograma\n",
        "*    Distribución de frecuencias\n",
        "*    La moda\n"
      ],
      "metadata": {
        "id": "up0uoSov0zM4"
      }
    },
    {
      "cell_type": "code",
      "execution_count": null,
      "metadata": {
        "id": "nX87M0AvzCVZ"
      },
      "outputs": [],
      "source": [
        "import pandas as pd\n",
        "import math"
      ]
    },
    {
      "cell_type": "code",
      "source": [
        "datos = pd.read_excel(\"/content/BD_Lambayeque22.xlsx\")"
      ],
      "metadata": {
        "id": "cjIjzkmI0P2_"
      },
      "execution_count": null,
      "outputs": []
    },
    {
      "cell_type": "code",
      "source": [
        "datos.shape"
      ],
      "metadata": {
        "colab": {
          "base_uri": "https://localhost:8080/"
        },
        "id": "kWOdKZnG0YbK",
        "outputId": "90d019a6-7e90-4402-ca52-0cd0078f38b1"
      },
      "execution_count": null,
      "outputs": [
        {
          "output_type": "execute_result",
          "data": {
            "text/plain": [
              "(4944, 22)"
            ]
          },
          "metadata": {},
          "execution_count": 4
        }
      ]
    },
    {
      "cell_type": "code",
      "source": [
        "datos.dtypes"
      ],
      "metadata": {
        "colab": {
          "base_uri": "https://localhost:8080/"
        },
        "id": "PvK0PiAN0aMT",
        "outputId": "5fb93d47-7932-444a-aa50-a5d195696180"
      },
      "execution_count": null,
      "outputs": [
        {
          "output_type": "execute_result",
          "data": {
            "text/plain": [
              "aÑo             int64\n",
              "mes             int64\n",
              "conglome        int64\n",
              "vivienda        int64\n",
              "hogar           int64\n",
              "codperso        int64\n",
              "ubigeo          int64\n",
              "dominio        object\n",
              "estrato        object\n",
              "p207           object\n",
              "p208a           int64\n",
              "p301a          object\n",
              "factor07      float64\n",
              "p110           object\n",
              "p1121          object\n",
              "mieperho        int64\n",
              "totmieho        int64\n",
              "sg42          float64\n",
              "gru11hd       float64\n",
              "inghog2dp     float64\n",
              "gashog1dp     float64\n",
              "estrsocial     object\n",
              "dtype: object"
            ]
          },
          "metadata": {},
          "execution_count": 5
        }
      ]
    },
    {
      "cell_type": "markdown",
      "source": [
        "#### Variable cuantitativa a analizar ingreso neto per cápita (**inghog2dp**)"
      ],
      "metadata": {
        "id": "bULGPnW02Ame"
      }
    },
    {
      "cell_type": "code",
      "source": [
        "inghog2dp = datos['inghog2dp']"
      ],
      "metadata": {
        "id": "Mjuk2mfK1Kf7"
      },
      "execution_count": null,
      "outputs": []
    },
    {
      "cell_type": "code",
      "source": [
        "type(inghog2dp)"
      ],
      "metadata": {
        "colab": {
          "base_uri": "https://localhost:8080/"
        },
        "id": "3gJS-wBv2iAj",
        "outputId": "3bea185f-3022-41b2-c45f-942084c7e06f"
      },
      "execution_count": null,
      "outputs": [
        {
          "output_type": "execute_result",
          "data": {
            "text/plain": [
              "pandas.core.series.Series"
            ]
          },
          "metadata": {},
          "execution_count": 7
        }
      ]
    },
    {
      "cell_type": "code",
      "source": [
        "inghog2dp"
      ],
      "metadata": {
        "colab": {
          "base_uri": "https://localhost:8080/"
        },
        "id": "VxU59hLr2krS",
        "outputId": "ab20cc81-8c03-4f6f-b553-64464ca12d57"
      },
      "execution_count": null,
      "outputs": [
        {
          "output_type": "execute_result",
          "data": {
            "text/plain": [
              "0       1278.309652\n",
              "1       1278.309652\n",
              "2       1278.309652\n",
              "3       1278.309652\n",
              "4       1675.821777\n",
              "           ...     \n",
              "4939     896.100065\n",
              "4940     896.100065\n",
              "4941     716.241862\n",
              "4942     716.241862\n",
              "4943     716.241862\n",
              "Name: inghog2dp, Length: 4944, dtype: float64"
            ]
          },
          "metadata": {},
          "execution_count": 8
        }
      ]
    },
    {
      "cell_type": "code",
      "source": [
        "inghog2dp.min()"
      ],
      "metadata": {
        "colab": {
          "base_uri": "https://localhost:8080/"
        },
        "id": "PeysvMYNRA2f",
        "outputId": "2a8d9e2d-3ad8-40c0-e03d-a42038480fed"
      },
      "execution_count": null,
      "outputs": [
        {
          "output_type": "execute_result",
          "data": {
            "text/plain": [
              "56.92596435546875"
            ]
          },
          "metadata": {},
          "execution_count": 9
        }
      ]
    },
    {
      "cell_type": "code",
      "source": [
        "inghog2dp.max()"
      ],
      "metadata": {
        "colab": {
          "base_uri": "https://localhost:8080/"
        },
        "id": "NxzRN8D8RRs9",
        "outputId": "9b14f9a7-b4ec-4af3-fa79-a77d9b155c68"
      },
      "execution_count": null,
      "outputs": [
        {
          "output_type": "execute_result",
          "data": {
            "text/plain": [
              "15779.4140625"
            ]
          },
          "metadata": {},
          "execution_count": 10
        }
      ]
    },
    {
      "cell_type": "code",
      "source": [
        "round(inghog2dp.max())"
      ],
      "metadata": {
        "colab": {
          "base_uri": "https://localhost:8080/"
        },
        "id": "UetsadaVRaSW",
        "outputId": "154e06e1-41d4-427c-843e-513d677ac456"
      },
      "execution_count": null,
      "outputs": [
        {
          "output_type": "execute_result",
          "data": {
            "text/plain": [
              "15779"
            ]
          },
          "metadata": {},
          "execution_count": 11
        }
      ]
    },
    {
      "cell_type": "code",
      "source": [
        "for i in range(13):\n",
        "    print(i)"
      ],
      "metadata": {
        "colab": {
          "base_uri": "https://localhost:8080/"
        },
        "id": "IsKqivIOq3S3",
        "outputId": "e055c0ad-1522-4aba-9d0c-a490651ef9b2"
      },
      "execution_count": null,
      "outputs": [
        {
          "output_type": "stream",
          "name": "stdout",
          "text": [
            "0\n",
            "1\n",
            "2\n",
            "3\n",
            "4\n",
            "5\n",
            "6\n",
            "7\n",
            "8\n",
            "9\n",
            "10\n",
            "11\n",
            "12\n"
          ]
        }
      ]
    },
    {
      "cell_type": "code",
      "source": [
        "def tabla_frecuencias_agrupadas(columna):\n",
        "  \"\"\"\n",
        "  Crea una tabla de frecuencias agrupadas para una columna de un dataset.\n",
        "\n",
        "  Args:\n",
        "    columna: La columna del dataset para la que se desea crear la tabla de frecuencias.\n",
        "    rango: El rango de los datos.\n",
        "    amplitud: La amplitud de cada intervalo de clase.\n",
        "\n",
        "  Returns:\n",
        "    Una tabla de frecuencias agrupadas con las siguientes columnas:\n",
        "      * Intervalo: El intervalo de clase.\n",
        "      * Frecuencia absoluta: La cantidad de veces que aparece el intervalo.\n",
        "      * Frecuencia relativa: La frecuencia absoluta dividida por el tamaño de la muestra.\n",
        "      * Marca de clase: El valor medio del intervalo.\n",
        "  \"\"\"\n",
        "  # Valor maximo de datos\n",
        "  Vmax = columna.max()\n",
        "  # Valor minimo de datos\n",
        "  Vmin = math.floor(columna.min())\n",
        "  # diferencia del valor maximo al minimo\n",
        "  R = Vmax - Vmin\n",
        "  # Número de filas de datos\n",
        "  numero_filas = columna.shape[0]\n",
        "  # Número de intervalos calculo de Sturges\n",
        "  n = round(1 + 3.22*math.log10(numero_filas ))\n",
        "  # Amplitud decimal\n",
        "  A = math.floor(R/n)\n",
        "  # Redondeo de la amplitud\n",
        "  redon_A = math.ceil(R/n)\n",
        "  # valor de la multiplicación de numero de intervalos y amplitud de redondeo\n",
        "  R_prima = n*redon_A\n",
        "  # Diferencia entre el valor decimal y valor teorico de R\n",
        "  d = R_prima - R\n",
        "  # Valor maximo + 1\n",
        "  Vmax_prima = Vmax + 1\n",
        "  lista_variables_iniciales = [n,Vmax,Vmin,R,numero_filas,A,redon_A,R_prima,d,Vmax_prima]\n",
        "  print(lista_variables_iniciales)\n",
        "  # Inicializamos la tabla de frecuencias.\n",
        "  lista_limite_inferior = []\n",
        "  lista_limite_superior = []\n",
        "  lista_marca_clase = []\n",
        "  lista_frecuencia_absoluta = []\n",
        "  lista_frecuencia_acumulada = []\n",
        "  lista_frecuencia_relativa = []\n",
        "  lista_frecuencia_relativa_acumulada = []\n",
        "  lista_frecuencia_porcentual = []\n",
        "\n",
        "  li = Vmin\n",
        "  ls = Vmin + A\n",
        "\n",
        "  # Calculamos los intervalos de clase.\n",
        "  # Si los intervalos de clase contienen números decimales, redondeamos la marca de clase al decimal más cercano.\n",
        "\n",
        "  for i in range(n):\n",
        "    lista_limite_inferior.append(li)\n",
        "    lista_limite_superior.append(ls)\n",
        "    lista_marca_clase.append(round((li + ls)/2))\n",
        "    li = li + A\n",
        "    ls = ls + A\n",
        "  if lista_limite_superior[n-1] < Vmax:\n",
        "    lista_limite_superior[n-1]=math.ceil(Vmax)\n",
        "  print(lista_limite_inferior)\n",
        "  print(lista_limite_superior)\n",
        "  print(lista_marca_clase)\n",
        "\n",
        "  # Calculamos la frecuencia absoluta de cada intervalo.\n",
        "\n",
        "  for j in range(n):\n",
        "    N = 0\n",
        "    for i in range(numero_filas):\n",
        "        if lista_limite_inferior[j]< columna[i] and columna[i] <= lista_limite_superior[j]:\n",
        "            N = N + 1\n",
        "    lista_frecuencia_absoluta.append(N)\n",
        "\n",
        "  print(lista_frecuencia_absoluta)\n",
        "\n",
        "  # Calculamos la frecuencia absoluta acumulada.\n",
        "  x = 0\n",
        "  for i in range(n):\n",
        "    x = x + lista_frecuencia_absoluta[i]\n",
        "    lista_frecuencia_acumulada.append(x)\n",
        "  print(lista_frecuencia_acumulada)\n",
        "\n",
        "  # Calculamos la frecuencia relativa de cada intervalo.\n",
        "  for k in range(n):\n",
        "    z = lista_frecuencia_absoluta[k]/numero_filas\n",
        "    lista_frecuencia_relativa.append(z)\n",
        "  print(lista_frecuencia_relativa)\n",
        "\n",
        "  # Calculamos la frecuencia relativa acumulada.\n",
        "  y = 0\n",
        "  for i in range(n):\n",
        "    y = y + lista_frecuencia_relativa[i]\n",
        "    lista_frecuencia_relativa_acumulada.append(y)\n",
        "  print(lista_frecuencia_relativa_acumulada)\n",
        "\n",
        "  # Calculamos la frecuencia porcentual de cada intervalo.\n",
        "  for j in range(n):\n",
        "    lista_frecuencia_porcentual.append(lista_frecuencia_relativa[j]*100)\n",
        "  print(lista_frecuencia_porcentual)\n",
        "\n",
        "  diccionario_estadistico = {\"Límite inferior\":lista_limite_inferior,\n",
        "    \"Límite superior\":lista_limite_superior,\n",
        "    \"Marca de clase\":lista_marca_clase, \"Frecuencia absoluta\": lista_frecuencia_absoluta, \"Frecuencia absoluta acumulada\": lista_frecuencia_acumulada, \"Frecuencia relativa\": lista_frecuencia_relativa, \"Frecuencia relativa acumulada\": lista_frecuencia_relativa_acumulada, \"Frecuencia porcentual %\": lista_frecuencia_porcentual}\n",
        "  print(diccionario_estadistico)\n",
        "\n",
        "  tabla = pd.DataFrame(diccionario_estadistico)\n",
        "\n",
        "  # Calculamos la frecuencia porcentual de cada intervalo.\n",
        "  #tabla[\"Frecuencia porcentual\"] = tabla[\"Frecuencia absoluta\"] * 100\n",
        "\n",
        "  return tabla\n"
      ],
      "metadata": {
        "id": "tNGTKaS03e2M"
      },
      "execution_count": null,
      "outputs": []
    },
    {
      "cell_type": "code",
      "source": [
        "dataset = pd.DataFrame({\n",
        "  \"Edad\": [21, 25.3, 25.1, 19.4, 20.5, 22.6, 21.7, 24.8, 26.9]\n",
        "})\n"
      ],
      "metadata": {
        "id": "aXCmP1iMscCr"
      },
      "execution_count": null,
      "outputs": []
    },
    {
      "cell_type": "code",
      "source": [
        "tabla = tabla_frecuencias_agrupadas(dataset[\"Edad\"])\n",
        "\n",
        "print(tabla)"
      ],
      "metadata": {
        "colab": {
          "base_uri": "https://localhost:8080/"
        },
        "id": "czCeaSkcug3M",
        "outputId": "aa60440f-04e2-4779-f324-e60e2236420d"
      },
      "execution_count": null,
      "outputs": [
        {
          "output_type": "stream",
          "name": "stdout",
          "text": [
            "[4, 26.9, 19, 7.899999999999999, 9, 1, 2, 8, 0.10000000000000142, 27.9]\n",
            "[19, 20, 21, 22]\n",
            "[20, 21, 22, 27]\n",
            "[20, 20, 22, 22]\n",
            "[1, 2, 1, 5]\n",
            "[1, 3, 4, 9]\n",
            "[0.1111111111111111, 0.2222222222222222, 0.1111111111111111, 0.5555555555555556]\n",
            "[0.1111111111111111, 0.3333333333333333, 0.4444444444444444, 1.0]\n",
            "[11.11111111111111, 22.22222222222222, 11.11111111111111, 55.55555555555556]\n",
            "{'Límite inferior': [19, 20, 21, 22], 'Límite superior': [20, 21, 22, 27], 'Marca de clase': [20, 20, 22, 22], 'Frecuencia absoluta': [1, 2, 1, 5], 'Frecuencia absoluta acumulada': [1, 3, 4, 9], 'Frecuencia relativa': [0.1111111111111111, 0.2222222222222222, 0.1111111111111111, 0.5555555555555556], 'Frecuencia relativa acumulada': [0.1111111111111111, 0.3333333333333333, 0.4444444444444444, 1.0], 'Frecuencia porcentual %': [11.11111111111111, 22.22222222222222, 11.11111111111111, 55.55555555555556]}\n",
            "   Límite inferior  Límite superior  Marca de clase  Frecuencia absoluta  \\\n",
            "0               19               20              20                    1   \n",
            "1               20               21              20                    2   \n",
            "2               21               22              22                    1   \n",
            "3               22               27              22                    5   \n",
            "\n",
            "   Frecuencia absoluta acumulada  Frecuencia relativa  \\\n",
            "0                              1             0.111111   \n",
            "1                              3             0.222222   \n",
            "2                              4             0.111111   \n",
            "3                              9             0.555556   \n",
            "\n",
            "   Frecuencia relativa acumulada  Frecuencia porcentual %  \n",
            "0                       0.111111                11.111111  \n",
            "1                       0.333333                22.222222  \n",
            "2                       0.444444                11.111111  \n",
            "3                       1.000000                55.555556  \n"
          ]
        }
      ]
    },
    {
      "cell_type": "code",
      "source": [
        "dataset = pd.DataFrame({\n",
        "  \"Edad\": [18.2, 25.3, 23.1, 19.4, 20.5, 22.6, 21.7, 24.8, 26.9]\n",
        "})\n"
      ],
      "metadata": {
        "id": "7ar0F7GcCkER"
      },
      "execution_count": null,
      "outputs": []
    },
    {
      "cell_type": "code",
      "source": [
        "\n",
        "tabla = tabla_frecuencias_agrupadas(dataset[\"Edad\"])\n",
        "\n",
        "print(tabla)\n"
      ],
      "metadata": {
        "colab": {
          "base_uri": "https://localhost:8080/"
        },
        "id": "KEy8TlrDGgnV",
        "outputId": "5d428fbc-45df-4d70-d92c-65b8b1530966"
      },
      "execution_count": null,
      "outputs": [
        {
          "output_type": "stream",
          "name": "stdout",
          "text": [
            "[4, 26.9, 18, 8.899999999999999, 9, 2, 3, 12, 3.1000000000000014, 27.9]\n",
            "[18, 20, 22, 24]\n",
            "[20, 22, 24, 27]\n",
            "[19, 21, 23, 25]\n",
            "[2, 2, 2, 3]\n",
            "[2, 4, 6, 9]\n",
            "[0.2222222222222222, 0.2222222222222222, 0.2222222222222222, 0.3333333333333333]\n",
            "[0.2222222222222222, 0.4444444444444444, 0.6666666666666666, 1.0]\n",
            "[22.22222222222222, 22.22222222222222, 22.22222222222222, 33.33333333333333]\n",
            "{'Límite inferior': [18, 20, 22, 24], 'Límite superior': [20, 22, 24, 27], 'Marca de clase': [19, 21, 23, 25], 'Frecuencia absoluta': [2, 2, 2, 3], 'Frecuencia absoluta acumulada': [2, 4, 6, 9], 'Frecuencia relativa': [0.2222222222222222, 0.2222222222222222, 0.2222222222222222, 0.3333333333333333], 'Frecuencia relativa acumulada': [0.2222222222222222, 0.4444444444444444, 0.6666666666666666, 1.0], 'Frecuencia porcentual %': [22.22222222222222, 22.22222222222222, 22.22222222222222, 33.33333333333333]}\n",
            "   Límite inferior  Límite superior  Marca de clase  Frecuencia absoluta  \\\n",
            "0               18               20              19                    2   \n",
            "1               20               22              21                    2   \n",
            "2               22               24              23                    2   \n",
            "3               24               27              25                    3   \n",
            "\n",
            "   Frecuencia absoluta acumulada  Frecuencia relativa  \\\n",
            "0                              2             0.222222   \n",
            "1                              4             0.222222   \n",
            "2                              6             0.222222   \n",
            "3                              9             0.333333   \n",
            "\n",
            "   Frecuencia relativa acumulada  Frecuencia porcentual %  \n",
            "0                       0.222222                22.222222  \n",
            "1                       0.444444                22.222222  \n",
            "2                       0.666667                22.222222  \n",
            "3                       1.000000                33.333333  \n"
          ]
        }
      ]
    },
    {
      "cell_type": "code",
      "source": [
        "tabla_frecuencias_inghog2dp = tabla_frecuencias_agrupadas(inghog2dp)\n",
        "tabla_frecuencias_inghog2dp"
      ],
      "metadata": {
        "colab": {
          "base_uri": "https://localhost:8080/",
          "height": 651
        },
        "id": "V8tg9swvO2Fw",
        "outputId": "4d3406f3-c1aa-4045-842a-7ba0907ab192"
      },
      "execution_count": null,
      "outputs": [
        {
          "output_type": "stream",
          "name": "stdout",
          "text": [
            "[13, 15779.4140625, 56, 15723.4140625, 4944, 1209, 1210, 15730, 6.5859375, 15780.4140625]\n",
            "[56, 1265, 2474, 3683, 4892, 6101, 7310, 8519, 9728, 10937, 12146, 13355, 14564]\n",
            "[1265, 2474, 3683, 4892, 6101, 7310, 8519, 9728, 10937, 12146, 13355, 14564, 15780]\n",
            "[660, 1870, 3078, 4288, 5496, 6706, 7914, 9124, 10332, 11542, 12750, 13960, 15168]\n",
            "[3997, 748, 108, 31, 22, 23, 8, 0, 1, 2, 0, 0, 4]\n",
            "[3997, 4745, 4853, 4884, 4906, 4929, 4937, 4937, 4938, 4940, 4940, 4940, 4944]\n",
            "[0.8084546925566343, 0.15129449838187703, 0.021844660194174758, 0.006270226537216829, 0.004449838187702265, 0.00465210355987055, 0.0016181229773462784, 0.0, 0.0002022653721682848, 0.0004045307443365696, 0.0, 0.0, 0.0008090614886731392]\n",
            "[0.8084546925566343, 0.9597491909385113, 0.981593851132686, 0.9878640776699029, 0.9923139158576052, 0.9969660194174758, 0.9985841423948221, 0.9985841423948221, 0.9987864077669903, 0.9991909385113269, 0.9991909385113269, 0.9991909385113269, 1.0]\n",
            "[80.84546925566343, 15.129449838187703, 2.1844660194174756, 0.6270226537216829, 0.4449838187702265, 0.46521035598705507, 0.16181229773462785, 0.0, 0.02022653721682848, 0.04045307443365696, 0.0, 0.0, 0.08090614886731393]\n",
            "{'Límite inferior': [56, 1265, 2474, 3683, 4892, 6101, 7310, 8519, 9728, 10937, 12146, 13355, 14564], 'Límite superior': [1265, 2474, 3683, 4892, 6101, 7310, 8519, 9728, 10937, 12146, 13355, 14564, 15780], 'Marca de clase': [660, 1870, 3078, 4288, 5496, 6706, 7914, 9124, 10332, 11542, 12750, 13960, 15168], 'Frecuencia absoluta': [3997, 748, 108, 31, 22, 23, 8, 0, 1, 2, 0, 0, 4], 'Frecuencia absoluta acumulada': [3997, 4745, 4853, 4884, 4906, 4929, 4937, 4937, 4938, 4940, 4940, 4940, 4944], 'Frecuencia relativa': [0.8084546925566343, 0.15129449838187703, 0.021844660194174758, 0.006270226537216829, 0.004449838187702265, 0.00465210355987055, 0.0016181229773462784, 0.0, 0.0002022653721682848, 0.0004045307443365696, 0.0, 0.0, 0.0008090614886731392], 'Frecuencia relativa acumulada': [0.8084546925566343, 0.9597491909385113, 0.981593851132686, 0.9878640776699029, 0.9923139158576052, 0.9969660194174758, 0.9985841423948221, 0.9985841423948221, 0.9987864077669903, 0.9991909385113269, 0.9991909385113269, 0.9991909385113269, 1.0], 'Frecuencia porcentual %': [80.84546925566343, 15.129449838187703, 2.1844660194174756, 0.6270226537216829, 0.4449838187702265, 0.46521035598705507, 0.16181229773462785, 0.0, 0.02022653721682848, 0.04045307443365696, 0.0, 0.0, 0.08090614886731393]}\n"
          ]
        },
        {
          "output_type": "execute_result",
          "data": {
            "text/plain": [
              "    Límite inferior  Límite superior  Marca de clase  Frecuencia absoluta  \\\n",
              "0                56             1265             660                 3997   \n",
              "1              1265             2474            1870                  748   \n",
              "2              2474             3683            3078                  108   \n",
              "3              3683             4892            4288                   31   \n",
              "4              4892             6101            5496                   22   \n",
              "5              6101             7310            6706                   23   \n",
              "6              7310             8519            7914                    8   \n",
              "7              8519             9728            9124                    0   \n",
              "8              9728            10937           10332                    1   \n",
              "9             10937            12146           11542                    2   \n",
              "10            12146            13355           12750                    0   \n",
              "11            13355            14564           13960                    0   \n",
              "12            14564            15780           15168                    4   \n",
              "\n",
              "    Frecuencia absoluta acumulada  Frecuencia relativa  \\\n",
              "0                            3997             0.808455   \n",
              "1                            4745             0.151294   \n",
              "2                            4853             0.021845   \n",
              "3                            4884             0.006270   \n",
              "4                            4906             0.004450   \n",
              "5                            4929             0.004652   \n",
              "6                            4937             0.001618   \n",
              "7                            4937             0.000000   \n",
              "8                            4938             0.000202   \n",
              "9                            4940             0.000405   \n",
              "10                           4940             0.000000   \n",
              "11                           4940             0.000000   \n",
              "12                           4944             0.000809   \n",
              "\n",
              "    Frecuencia relativa acumulada  Frecuencia porcentual %  \n",
              "0                        0.808455                80.845469  \n",
              "1                        0.959749                15.129450  \n",
              "2                        0.981594                 2.184466  \n",
              "3                        0.987864                 0.627023  \n",
              "4                        0.992314                 0.444984  \n",
              "5                        0.996966                 0.465210  \n",
              "6                        0.998584                 0.161812  \n",
              "7                        0.998584                 0.000000  \n",
              "8                        0.998786                 0.020227  \n",
              "9                        0.999191                 0.040453  \n",
              "10                       0.999191                 0.000000  \n",
              "11                       0.999191                 0.000000  \n",
              "12                       1.000000                 0.080906  "
            ],
            "text/html": [
              "\n",
              "  <div id=\"df-44c2f49d-f5cb-470e-ab5e-bf221bc2739a\" class=\"colab-df-container\">\n",
              "    <div>\n",
              "<style scoped>\n",
              "    .dataframe tbody tr th:only-of-type {\n",
              "        vertical-align: middle;\n",
              "    }\n",
              "\n",
              "    .dataframe tbody tr th {\n",
              "        vertical-align: top;\n",
              "    }\n",
              "\n",
              "    .dataframe thead th {\n",
              "        text-align: right;\n",
              "    }\n",
              "</style>\n",
              "<table border=\"1\" class=\"dataframe\">\n",
              "  <thead>\n",
              "    <tr style=\"text-align: right;\">\n",
              "      <th></th>\n",
              "      <th>Límite inferior</th>\n",
              "      <th>Límite superior</th>\n",
              "      <th>Marca de clase</th>\n",
              "      <th>Frecuencia absoluta</th>\n",
              "      <th>Frecuencia absoluta acumulada</th>\n",
              "      <th>Frecuencia relativa</th>\n",
              "      <th>Frecuencia relativa acumulada</th>\n",
              "      <th>Frecuencia porcentual %</th>\n",
              "    </tr>\n",
              "  </thead>\n",
              "  <tbody>\n",
              "    <tr>\n",
              "      <th>0</th>\n",
              "      <td>56</td>\n",
              "      <td>1265</td>\n",
              "      <td>660</td>\n",
              "      <td>3997</td>\n",
              "      <td>3997</td>\n",
              "      <td>0.808455</td>\n",
              "      <td>0.808455</td>\n",
              "      <td>80.845469</td>\n",
              "    </tr>\n",
              "    <tr>\n",
              "      <th>1</th>\n",
              "      <td>1265</td>\n",
              "      <td>2474</td>\n",
              "      <td>1870</td>\n",
              "      <td>748</td>\n",
              "      <td>4745</td>\n",
              "      <td>0.151294</td>\n",
              "      <td>0.959749</td>\n",
              "      <td>15.129450</td>\n",
              "    </tr>\n",
              "    <tr>\n",
              "      <th>2</th>\n",
              "      <td>2474</td>\n",
              "      <td>3683</td>\n",
              "      <td>3078</td>\n",
              "      <td>108</td>\n",
              "      <td>4853</td>\n",
              "      <td>0.021845</td>\n",
              "      <td>0.981594</td>\n",
              "      <td>2.184466</td>\n",
              "    </tr>\n",
              "    <tr>\n",
              "      <th>3</th>\n",
              "      <td>3683</td>\n",
              "      <td>4892</td>\n",
              "      <td>4288</td>\n",
              "      <td>31</td>\n",
              "      <td>4884</td>\n",
              "      <td>0.006270</td>\n",
              "      <td>0.987864</td>\n",
              "      <td>0.627023</td>\n",
              "    </tr>\n",
              "    <tr>\n",
              "      <th>4</th>\n",
              "      <td>4892</td>\n",
              "      <td>6101</td>\n",
              "      <td>5496</td>\n",
              "      <td>22</td>\n",
              "      <td>4906</td>\n",
              "      <td>0.004450</td>\n",
              "      <td>0.992314</td>\n",
              "      <td>0.444984</td>\n",
              "    </tr>\n",
              "    <tr>\n",
              "      <th>5</th>\n",
              "      <td>6101</td>\n",
              "      <td>7310</td>\n",
              "      <td>6706</td>\n",
              "      <td>23</td>\n",
              "      <td>4929</td>\n",
              "      <td>0.004652</td>\n",
              "      <td>0.996966</td>\n",
              "      <td>0.465210</td>\n",
              "    </tr>\n",
              "    <tr>\n",
              "      <th>6</th>\n",
              "      <td>7310</td>\n",
              "      <td>8519</td>\n",
              "      <td>7914</td>\n",
              "      <td>8</td>\n",
              "      <td>4937</td>\n",
              "      <td>0.001618</td>\n",
              "      <td>0.998584</td>\n",
              "      <td>0.161812</td>\n",
              "    </tr>\n",
              "    <tr>\n",
              "      <th>7</th>\n",
              "      <td>8519</td>\n",
              "      <td>9728</td>\n",
              "      <td>9124</td>\n",
              "      <td>0</td>\n",
              "      <td>4937</td>\n",
              "      <td>0.000000</td>\n",
              "      <td>0.998584</td>\n",
              "      <td>0.000000</td>\n",
              "    </tr>\n",
              "    <tr>\n",
              "      <th>8</th>\n",
              "      <td>9728</td>\n",
              "      <td>10937</td>\n",
              "      <td>10332</td>\n",
              "      <td>1</td>\n",
              "      <td>4938</td>\n",
              "      <td>0.000202</td>\n",
              "      <td>0.998786</td>\n",
              "      <td>0.020227</td>\n",
              "    </tr>\n",
              "    <tr>\n",
              "      <th>9</th>\n",
              "      <td>10937</td>\n",
              "      <td>12146</td>\n",
              "      <td>11542</td>\n",
              "      <td>2</td>\n",
              "      <td>4940</td>\n",
              "      <td>0.000405</td>\n",
              "      <td>0.999191</td>\n",
              "      <td>0.040453</td>\n",
              "    </tr>\n",
              "    <tr>\n",
              "      <th>10</th>\n",
              "      <td>12146</td>\n",
              "      <td>13355</td>\n",
              "      <td>12750</td>\n",
              "      <td>0</td>\n",
              "      <td>4940</td>\n",
              "      <td>0.000000</td>\n",
              "      <td>0.999191</td>\n",
              "      <td>0.000000</td>\n",
              "    </tr>\n",
              "    <tr>\n",
              "      <th>11</th>\n",
              "      <td>13355</td>\n",
              "      <td>14564</td>\n",
              "      <td>13960</td>\n",
              "      <td>0</td>\n",
              "      <td>4940</td>\n",
              "      <td>0.000000</td>\n",
              "      <td>0.999191</td>\n",
              "      <td>0.000000</td>\n",
              "    </tr>\n",
              "    <tr>\n",
              "      <th>12</th>\n",
              "      <td>14564</td>\n",
              "      <td>15780</td>\n",
              "      <td>15168</td>\n",
              "      <td>4</td>\n",
              "      <td>4944</td>\n",
              "      <td>0.000809</td>\n",
              "      <td>1.000000</td>\n",
              "      <td>0.080906</td>\n",
              "    </tr>\n",
              "  </tbody>\n",
              "</table>\n",
              "</div>\n",
              "    <div class=\"colab-df-buttons\">\n",
              "\n",
              "  <div class=\"colab-df-container\">\n",
              "    <button class=\"colab-df-convert\" onclick=\"convertToInteractive('df-44c2f49d-f5cb-470e-ab5e-bf221bc2739a')\"\n",
              "            title=\"Convert this dataframe to an interactive table.\"\n",
              "            style=\"display:none;\">\n",
              "\n",
              "  <svg xmlns=\"http://www.w3.org/2000/svg\" height=\"24px\" viewBox=\"0 -960 960 960\">\n",
              "    <path d=\"M120-120v-720h720v720H120Zm60-500h600v-160H180v160Zm220 220h160v-160H400v160Zm0 220h160v-160H400v160ZM180-400h160v-160H180v160Zm440 0h160v-160H620v160ZM180-180h160v-160H180v160Zm440 0h160v-160H620v160Z\"/>\n",
              "  </svg>\n",
              "    </button>\n",
              "\n",
              "  <style>\n",
              "    .colab-df-container {\n",
              "      display:flex;\n",
              "      gap: 12px;\n",
              "    }\n",
              "\n",
              "    .colab-df-convert {\n",
              "      background-color: #E8F0FE;\n",
              "      border: none;\n",
              "      border-radius: 50%;\n",
              "      cursor: pointer;\n",
              "      display: none;\n",
              "      fill: #1967D2;\n",
              "      height: 32px;\n",
              "      padding: 0 0 0 0;\n",
              "      width: 32px;\n",
              "    }\n",
              "\n",
              "    .colab-df-convert:hover {\n",
              "      background-color: #E2EBFA;\n",
              "      box-shadow: 0px 1px 2px rgba(60, 64, 67, 0.3), 0px 1px 3px 1px rgba(60, 64, 67, 0.15);\n",
              "      fill: #174EA6;\n",
              "    }\n",
              "\n",
              "    .colab-df-buttons div {\n",
              "      margin-bottom: 4px;\n",
              "    }\n",
              "\n",
              "    [theme=dark] .colab-df-convert {\n",
              "      background-color: #3B4455;\n",
              "      fill: #D2E3FC;\n",
              "    }\n",
              "\n",
              "    [theme=dark] .colab-df-convert:hover {\n",
              "      background-color: #434B5C;\n",
              "      box-shadow: 0px 1px 3px 1px rgba(0, 0, 0, 0.15);\n",
              "      filter: drop-shadow(0px 1px 2px rgba(0, 0, 0, 0.3));\n",
              "      fill: #FFFFFF;\n",
              "    }\n",
              "  </style>\n",
              "\n",
              "    <script>\n",
              "      const buttonEl =\n",
              "        document.querySelector('#df-44c2f49d-f5cb-470e-ab5e-bf221bc2739a button.colab-df-convert');\n",
              "      buttonEl.style.display =\n",
              "        google.colab.kernel.accessAllowed ? 'block' : 'none';\n",
              "\n",
              "      async function convertToInteractive(key) {\n",
              "        const element = document.querySelector('#df-44c2f49d-f5cb-470e-ab5e-bf221bc2739a');\n",
              "        const dataTable =\n",
              "          await google.colab.kernel.invokeFunction('convertToInteractive',\n",
              "                                                    [key], {});\n",
              "        if (!dataTable) return;\n",
              "\n",
              "        const docLinkHtml = 'Like what you see? Visit the ' +\n",
              "          '<a target=\"_blank\" href=https://colab.research.google.com/notebooks/data_table.ipynb>data table notebook</a>'\n",
              "          + ' to learn more about interactive tables.';\n",
              "        element.innerHTML = '';\n",
              "        dataTable['output_type'] = 'display_data';\n",
              "        await google.colab.output.renderOutput(dataTable, element);\n",
              "        const docLink = document.createElement('div');\n",
              "        docLink.innerHTML = docLinkHtml;\n",
              "        element.appendChild(docLink);\n",
              "      }\n",
              "    </script>\n",
              "  </div>\n",
              "\n",
              "\n",
              "<div id=\"df-025d8774-c2a2-4496-ae76-bc5f744ed62a\">\n",
              "  <button class=\"colab-df-quickchart\" onclick=\"quickchart('df-025d8774-c2a2-4496-ae76-bc5f744ed62a')\"\n",
              "            title=\"Suggest charts.\"\n",
              "            style=\"display:none;\">\n",
              "\n",
              "<svg xmlns=\"http://www.w3.org/2000/svg\" height=\"24px\"viewBox=\"0 0 24 24\"\n",
              "     width=\"24px\">\n",
              "    <g>\n",
              "        <path d=\"M19 3H5c-1.1 0-2 .9-2 2v14c0 1.1.9 2 2 2h14c1.1 0 2-.9 2-2V5c0-1.1-.9-2-2-2zM9 17H7v-7h2v7zm4 0h-2V7h2v10zm4 0h-2v-4h2v4z\"/>\n",
              "    </g>\n",
              "</svg>\n",
              "  </button>\n",
              "\n",
              "<style>\n",
              "  .colab-df-quickchart {\n",
              "      --bg-color: #E8F0FE;\n",
              "      --fill-color: #1967D2;\n",
              "      --hover-bg-color: #E2EBFA;\n",
              "      --hover-fill-color: #174EA6;\n",
              "      --disabled-fill-color: #AAA;\n",
              "      --disabled-bg-color: #DDD;\n",
              "  }\n",
              "\n",
              "  [theme=dark] .colab-df-quickchart {\n",
              "      --bg-color: #3B4455;\n",
              "      --fill-color: #D2E3FC;\n",
              "      --hover-bg-color: #434B5C;\n",
              "      --hover-fill-color: #FFFFFF;\n",
              "      --disabled-bg-color: #3B4455;\n",
              "      --disabled-fill-color: #666;\n",
              "  }\n",
              "\n",
              "  .colab-df-quickchart {\n",
              "    background-color: var(--bg-color);\n",
              "    border: none;\n",
              "    border-radius: 50%;\n",
              "    cursor: pointer;\n",
              "    display: none;\n",
              "    fill: var(--fill-color);\n",
              "    height: 32px;\n",
              "    padding: 0;\n",
              "    width: 32px;\n",
              "  }\n",
              "\n",
              "  .colab-df-quickchart:hover {\n",
              "    background-color: var(--hover-bg-color);\n",
              "    box-shadow: 0 1px 2px rgba(60, 64, 67, 0.3), 0 1px 3px 1px rgba(60, 64, 67, 0.15);\n",
              "    fill: var(--button-hover-fill-color);\n",
              "  }\n",
              "\n",
              "  .colab-df-quickchart-complete:disabled,\n",
              "  .colab-df-quickchart-complete:disabled:hover {\n",
              "    background-color: var(--disabled-bg-color);\n",
              "    fill: var(--disabled-fill-color);\n",
              "    box-shadow: none;\n",
              "  }\n",
              "\n",
              "  .colab-df-spinner {\n",
              "    border: 2px solid var(--fill-color);\n",
              "    border-color: transparent;\n",
              "    border-bottom-color: var(--fill-color);\n",
              "    animation:\n",
              "      spin 1s steps(1) infinite;\n",
              "  }\n",
              "\n",
              "  @keyframes spin {\n",
              "    0% {\n",
              "      border-color: transparent;\n",
              "      border-bottom-color: var(--fill-color);\n",
              "      border-left-color: var(--fill-color);\n",
              "    }\n",
              "    20% {\n",
              "      border-color: transparent;\n",
              "      border-left-color: var(--fill-color);\n",
              "      border-top-color: var(--fill-color);\n",
              "    }\n",
              "    30% {\n",
              "      border-color: transparent;\n",
              "      border-left-color: var(--fill-color);\n",
              "      border-top-color: var(--fill-color);\n",
              "      border-right-color: var(--fill-color);\n",
              "    }\n",
              "    40% {\n",
              "      border-color: transparent;\n",
              "      border-right-color: var(--fill-color);\n",
              "      border-top-color: var(--fill-color);\n",
              "    }\n",
              "    60% {\n",
              "      border-color: transparent;\n",
              "      border-right-color: var(--fill-color);\n",
              "    }\n",
              "    80% {\n",
              "      border-color: transparent;\n",
              "      border-right-color: var(--fill-color);\n",
              "      border-bottom-color: var(--fill-color);\n",
              "    }\n",
              "    90% {\n",
              "      border-color: transparent;\n",
              "      border-bottom-color: var(--fill-color);\n",
              "    }\n",
              "  }\n",
              "</style>\n",
              "\n",
              "  <script>\n",
              "    async function quickchart(key) {\n",
              "      const quickchartButtonEl =\n",
              "        document.querySelector('#' + key + ' button');\n",
              "      quickchartButtonEl.disabled = true;  // To prevent multiple clicks.\n",
              "      quickchartButtonEl.classList.add('colab-df-spinner');\n",
              "      try {\n",
              "        const charts = await google.colab.kernel.invokeFunction(\n",
              "            'suggestCharts', [key], {});\n",
              "      } catch (error) {\n",
              "        console.error('Error during call to suggestCharts:', error);\n",
              "      }\n",
              "      quickchartButtonEl.classList.remove('colab-df-spinner');\n",
              "      quickchartButtonEl.classList.add('colab-df-quickchart-complete');\n",
              "    }\n",
              "    (() => {\n",
              "      let quickchartButtonEl =\n",
              "        document.querySelector('#df-025d8774-c2a2-4496-ae76-bc5f744ed62a button');\n",
              "      quickchartButtonEl.style.display =\n",
              "        google.colab.kernel.accessAllowed ? 'block' : 'none';\n",
              "    })();\n",
              "  </script>\n",
              "</div>\n",
              "    </div>\n",
              "  </div>\n"
            ]
          },
          "metadata": {},
          "execution_count": 18
        }
      ]
    },
    {
      "cell_type": "markdown",
      "source": [
        "## Distribución de frecuencias"
      ],
      "metadata": {
        "id": "FFkOpcXJ97P3"
      }
    },
    {
      "cell_type": "code",
      "source": [
        "import matplotlib.pyplot as plt\n",
        "\n",
        "# Gráfico\n",
        "plt.hist(tabla_frecuencias_inghog2dp['Frecuencia absoluta'], bins=len(tabla_frecuencias_inghog2dp['Marca de clase']), label=\"Frecuencia\")\n",
        "plt.title(\"Distribución de frecuencias\", fontsize=16)\n",
        "plt.xlabel(\"Marca de clase\", fontsize=14)\n",
        "plt.ylabel(\"Frecuencia\", fontsize=14)\n",
        "plt.grid(False)\n",
        "\n",
        "# Mostrar el gráfico\n",
        "plt.show()\n"
      ],
      "metadata": {
        "id": "YuT11_og962f",
        "outputId": "f6342950-e35d-43e4-a89e-f1434d33376c",
        "colab": {
          "base_uri": "https://localhost:8080/",
          "height": 479
        }
      },
      "execution_count": null,
      "outputs": [
        {
          "output_type": "display_data",
          "data": {
            "text/plain": [
              "<Figure size 640x480 with 1 Axes>"
            ],
            "image/png": "[encoded data removed]"
          },
          "metadata": {}
        }
      ]
    },
    {
      "cell_type": "code",
      "source": [
        "plt.scatter(tabla_frecuencias_inghog2dp['Marca de clase'], tabla_frecuencias_inghog2dp['Frecuencia absoluta'], s=50, c=\"red\")\n",
        "plt.title(\"Diagrama de frecuencias de las variables 'Marca de clase' y 'Frecuencia absoluta' \")\n",
        "plt.show()"
      ],
      "metadata": {
        "id": "W11kFYjM9Xei",
        "outputId": "60b5c70e-15bc-4262-fe75-506bfc4ea6eb",
        "colab": {
          "base_uri": "https://localhost:8080/",
          "height": 452
        }
      },
      "execution_count": null,
      "outputs": [
        {
          "output_type": "display_data",
          "data": {
            "text/plain": [
              "<Figure size 640x480 with 1 Axes>"
            ],
            "image/png": "[encoded data removed]"
          },
          "metadata": {}
        }
      ]
    },
    {
      "cell_type": "code",
      "source": [
        "# mateo vino hoy (comentario)"
      ],
      "metadata": {
        "id": "NGcyKiD2-9Jm"
      },
      "execution_count": 2,
      "outputs": []
    },
    {
      "cell_type": "markdown",
      "source": [
        "mateo vino hoy"
      ],
      "metadata": {
        "id": "R1AY-RPUzhJn"
      }
    },
    {
      "cell_type": "code",
      "source": [],
      "metadata": {
        "id": "GauT1YZXzX5x"
      },
      "execution_count": null,
      "outputs": []
    }
  ]
}