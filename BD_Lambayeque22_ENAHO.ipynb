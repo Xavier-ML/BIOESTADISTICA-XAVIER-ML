{
  "nbformat": 4,
  "nbformat_minor": 0,
  "metadata": {
    "colab": {
      "provenance": [],
      "authorship_tag": "ABX9TyNZDQrsy5pzSqJsBOgHtant",
      "include_colab_link": true
    },
    "kernelspec": {
      "name": "python3",
      "display_name": "Python 3"
    },
    "language_info": {
      "name": "python"
    }
  },
  "cells": [
    {
      "cell_type": "markdown",
      "metadata": {
        "id": "view-in-github",
        "colab_type": "text"
      },
      "source": [
        "<a href=\"https://colab.research.google.com/github/Xavier-ML/BIOINFORMATICA-XAVIER-ML/blob/main/BD_Lambayeque22_ENAHO.ipynb\" target=\"_parent\"><img src=\"https://colab.research.google.com/assets/colab-badge.svg\" alt=\"Open In Colab\"/></a>"
      ]
    },
    {
      "cell_type": "markdown",
      "source": [
        "\n",
        "#LABORATORIO INDIVIDUAL – MODULO 1 DE LA PLATAFORMA VIRTUAL\n",
        "El presente laboratorio se ha realizado para que lo resuelvan en forma individual. Está basado en una investigación real respecto a la información de la Encuesta Nacional de Hogares del año 2022 (ENAHO).\n",
        "\n",
        "\n"
      ],
      "metadata": {
        "id": "cXk3XNNn0k2B"
      }
    },
    {
      "cell_type": "markdown",
      "source": [
        "### Para cada uno de los grupos, la información de respuesta debe remitirse en Word la parte textual analítica y en Excel.\n",
        "El ámbito de aplicación de la intervención fue en la región Lambayeque. La población estimada en el año 2022, fue de 1 millón 338 mil habitantes (1,338,994), habitando en 289,969 viviendas, en los cuales se tomó una muestra de 1436 hogares para identificar los hogares. A continuación, se alcanza la Base de Datos con algunas variables de interés.\n",
        "El laboratorio se ha dividido de la siguiente manera.\n",
        "Se debe utilizar la Base de datos que se adjunta en el Excel para resolver las siguientes preguntas.\n",
        "### Para cada una de las variables cuantitativas se pide lo siguiente:\n",
        "\n",
        "*   Distribución de frecuencias\n",
        "*    Histograma y polígono\n",
        "*    La media aritmética\n",
        "*    La mediana\n",
        "*    La moda\n",
        "*     La desviación media\n",
        "*    La varianza\n",
        "*    La desviación estándar\n",
        "*      El coeficiente de variación\n",
        "*     El coeficiente de asimetría\n",
        "*    El coeficiente de apuntamiento\n",
        "\n",
        "### Para cada una de las variables cualitativas se pide lo siguiente:\n",
        "\n",
        "*    Histograma\n",
        "*    Distribución de frecuencias\n",
        "*    La moda\n"
      ],
      "metadata": {
        "id": "up0uoSov0zM4"
      }
    },
    {
      "cell_type": "code",
      "execution_count": 1,
      "metadata": {
        "id": "nX87M0AvzCVZ"
      },
      "outputs": [],
      "source": [
        "import pandas as pd\n",
        "import math as pd"
      ]
    },
    {
      "cell_type": "code",
      "source": [
        "datos = pd.read_excel(\"/content/BD_Lambayeque22.xlsx\")"
      ],
      "metadata": {
        "id": "cjIjzkmI0P2_"
      },
      "execution_count": 2,
      "outputs": []
    },
    {
      "cell_type": "code",
      "source": [
        "datos.shape"
      ],
      "metadata": {
        "colab": {
          "base_uri": "https://localhost:8080/",
          "height": 0
        },
        "id": "kWOdKZnG0YbK",
        "outputId": "2f4a9e42-a1f0-4e1d-d5dd-043a45d19fa7"
      },
      "execution_count": 6,
      "outputs": [
        {
          "output_type": "execute_result",
          "data": {
            "text/plain": [
              "(4944, 22)"
            ]
          },
          "metadata": {},
          "execution_count": 6
        }
      ]
    },
    {
      "cell_type": "code",
      "source": [
        "datos.dtypes"
      ],
      "metadata": {
        "colab": {
          "base_uri": "https://localhost:8080/",
          "height": 0
        },
        "id": "PvK0PiAN0aMT",
        "outputId": "b99e60a4-afd5-4d6a-cc78-69de75e4dee5"
      },
      "execution_count": 7,
      "outputs": [
        {
          "output_type": "execute_result",
          "data": {
            "text/plain": [
              "aÑo             int64\n",
              "mes             int64\n",
              "conglome        int64\n",
              "vivienda        int64\n",
              "hogar           int64\n",
              "codperso        int64\n",
              "ubigeo          int64\n",
              "dominio        object\n",
              "estrato        object\n",
              "p207           object\n",
              "p208a           int64\n",
              "p301a          object\n",
              "factor07      float64\n",
              "p110           object\n",
              "p1121          object\n",
              "mieperho        int64\n",
              "totmieho        int64\n",
              "sg42          float64\n",
              "gru11hd       float64\n",
              "inghog2dp     float64\n",
              "gashog1dp     float64\n",
              "estrsocial     object\n",
              "dtype: object"
            ]
          },
          "metadata": {},
          "execution_count": 7
        }
      ]
    },
    {
      "cell_type": "markdown",
      "source": [
        "#### Variable cuantitativa a analizar ingreso neto per cápita (**inghog2dp**)"
      ],
      "metadata": {
        "id": "bULGPnW02Ame"
      }
    },
    {
      "cell_type": "code",
      "source": [
        "inghog2dp = datos['inghog2dp']"
      ],
      "metadata": {
        "id": "Mjuk2mfK1Kf7"
      },
      "execution_count": 8,
      "outputs": []
    },
    {
      "cell_type": "code",
      "source": [
        "type(inghog2dp)"
      ],
      "metadata": {
        "colab": {
          "base_uri": "https://localhost:8080/"
        },
        "id": "3gJS-wBv2iAj",
        "outputId": "8c032084-5e19-4571-b3cd-54f681aacc06"
      },
      "execution_count": 10,
      "outputs": [
        {
          "output_type": "execute_result",
          "data": {
            "text/plain": [
              "pandas.core.series.Series"
            ]
          },
          "metadata": {},
          "execution_count": 10
        }
      ]
    },
    {
      "cell_type": "code",
      "source": [
        "inghog2dp"
      ],
      "metadata": {
        "colab": {
          "base_uri": "https://localhost:8080/"
        },
        "id": "VxU59hLr2krS",
        "outputId": "e7553123-74b1-489d-9947-38ba19921d7f"
      },
      "execution_count": 11,
      "outputs": [
        {
          "output_type": "execute_result",
          "data": {
            "text/plain": [
              "0       1278.309652\n",
              "1       1278.309652\n",
              "2       1278.309652\n",
              "3       1278.309652\n",
              "4       1675.821777\n",
              "           ...     \n",
              "4939     896.100065\n",
              "4940     896.100065\n",
              "4941     716.241862\n",
              "4942     716.241862\n",
              "4943     716.241862\n",
              "Name: inghog2dp, Length: 4944, dtype: float64"
            ]
          },
          "metadata": {},
          "execution_count": 11
        }
      ]
    },
    {
      "cell_type": "code",
      "source": [
        "def tabla_frecuencias_agrupadas(columna):\n",
        "  \"\"\"\n",
        "  Crea una tabla de frecuencias agrupadas para una columna de un dataset.\n",
        "\n",
        "  Args:\n",
        "    columna: La columna del dataset para la que se desea crear la tabla de frecuencias.\n",
        "    rango: El rango de los datos.\n",
        "    amplitud: La amplitud de cada intervalo de clase.\n",
        "\n",
        "  Returns:\n",
        "    Una tabla de frecuencias agrupadas con las siguientes columnas:\n",
        "      * Intervalo: El intervalo de clase.\n",
        "      * Frecuencia absoluta: La cantidad de veces que aparece el intervalo.\n",
        "      * Frecuencia relativa: La frecuencia absoluta dividida por el tamaño de la muestra.\n",
        "      * Marca de clase: El valor medio del intervalo.\n",
        "  \"\"\"\n",
        "  # Valor maximo de datos\n",
        "  Vmax = columna.max()\n",
        "  # Valor minimo de datos\n",
        "  Vmin = columna.min()\n",
        "  # diferencia del valor maximo al minimo\n",
        "  R = Vmax - Vmin\n",
        "  # Número de filas de datos\n",
        "  numero_filas = columna.shape[0]\n",
        "  # Número de intervalos calculo de Sturges\n",
        "  n = 1 + 3.22*math.log(numero_filas )\n",
        "  # Amplitud decimal\n",
        "  A = R/n\n",
        "  # Redondeo de la amplitud\n",
        "  redon_A = round(A)\n",
        "  # valor de la multiplicación de numero de intervalos y amplitud de redondeo\n",
        "  R_prima = n*redon_A\n",
        "  # Diferencia entre el valor decimal y valor teorico de R\n",
        "  d = R_prima - R\n",
        "  # Valor maximo + 1\n",
        "  Vmax_prima = Vmax + 1\n",
        "  lista_variables_iniciales = [n,Vmax,Vmin,R,]\n",
        "  # Obtenemos los valores únicos de la columna.\n",
        "  valores_unicos = columna.unique()\n",
        "\n",
        "  # Inicializamos la tabla de frecuencias.\n",
        "  tabla = pd.DataFrame({\n",
        "    \"Intervalo\": []\n",
        "  })\n",
        "\n",
        "  # Calculamos los intervalos de clase.\n",
        "  for i in range(len(valores_unicos) - 1):\n",
        "    marca_de_clase = (valores_unicos[i] + valores_unicos[i + 1]) / 2\n",
        "    intervalo = f\"({valores_unicos[i]}-{valores_unicos[i + 1]}]\"\n",
        "    tabla = tabla.append({\"Intervalo\": intervalo, \"Marca de clase\": marca_de_clase}, ignore_index=True)\n",
        "\n",
        "  # Calculamos la frecuencia absoluta de cada intervalo.\n",
        "  tabla[\"Frecuencia absoluta\"] = tabla[\"Intervalo\"].value_counts()\n",
        "\n",
        "  # Calculamos la frecuencia relativa de cada intervalo.\n",
        "  tabla[\"Frecuencia relativa\"] = tabla[\"Frecuencia absoluta\"] / tabla.shape[0]\n",
        "\n",
        "  return tabla\n"
      ],
      "metadata": {
        "id": "tNGTKaS03e2M"
      },
      "execution_count": 15,
      "outputs": []
    },
    {
      "cell_type": "code",
      "source": [],
      "metadata": {
        "id": "zTbjrLVX4-KM"
      },
      "execution_count": null,
      "outputs": []
    }
  ]
}